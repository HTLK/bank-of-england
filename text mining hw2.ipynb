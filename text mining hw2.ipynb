{
 "cells": [
  {
   "cell_type": "code",
   "execution_count": 1,
   "metadata": {
    "ExecuteTime": {
     "end_time": "2020-02-13T10:45:25.457698Z",
     "start_time": "2020-02-13T10:45:21.864071Z"
    }
   },
   "outputs": [],
   "source": [
    "import pandas as pd\n",
    "from nltk.stem import PorterStemmer\n",
    "from nltk import word_tokenize, sent_tokenize\n",
    "from nltk.corpus import stopwords\n",
    "import pickle\n",
    "from sklearn.feature_extraction.text import TfidfVectorizer\n",
    "import re\n",
    "import numpy as np\n",
    "from numpy.linalg import norm\n",
    "from nltk.cluster import KMeansClusterer\n",
    "from nltk.cluster.util import cosine_distance\n",
    "import gensim"
   ]
  },
  {
   "cell_type": "markdown",
   "metadata": {},
   "source": [
    "## Read corpus and preprocess\n",
    "\n",
    "For faster processing time, read the pickled corpora from files."
   ]
  },
  {
   "cell_type": "code",
   "execution_count": 2,
   "metadata": {
    "ExecuteTime": {
     "end_time": "2020-02-13T10:52:28.575564Z",
     "start_time": "2020-02-13T10:52:28.457406Z"
    }
   },
   "outputs": [],
   "source": [
    "ir_data = pd.read_csv('ir_data_final.txt', delimiter='\\t')"
   ]
  },
  {
   "cell_type": "code",
   "execution_count": 3,
   "metadata": {
    "ExecuteTime": {
     "end_time": "2020-02-12T17:17:25.218976Z",
     "start_time": "2020-02-12T17:17:25.040417Z"
    }
   },
   "outputs": [],
   "source": [
    "# report_corpus = ir_data.groupby('ir_date')['paragraph']\\\n",
    "#                 .apply(\" \".join).to_frame().rename(columns=dict(paragraph='report'))\n",
    "# paragraph_corpus = ir_data[['ir_date', 'paragraph']].copy()\n",
    "# # Generate sentence-level corpus\n",
    "# sentence_corpus = pd.DataFrame({'ir_date': paragraph_corpus.ir_date,\n",
    "#                                 'sentences': paragraph_corpus.paragraph.apply(sent_tokenize)})"
   ]
  },
  {
   "cell_type": "code",
   "execution_count": 4,
   "metadata": {
    "ExecuteTime": {
     "end_time": "2020-02-12T14:00:20.234168Z",
     "start_time": "2020-02-12T14:00:20.221578Z"
    }
   },
   "outputs": [],
   "source": [
    "# # Preprocess\n",
    "# ps = PorterStemmer()\n",
    "# sw = stopwords.words('english')\n",
    "# def mypreprocess(text):\n",
    "#     #text is a document of a corpus\n",
    "#     #lowercase of text\n",
    "#     text=text.lower()\n",
    "#     #remove all the irrelevant numbers and punctuation\n",
    "#     text=re.sub(r'[^a-z]+',' ',text)\n",
    "#     #tokenize the words\n",
    "#     token1=word_tokenize(text)\n",
    "#     #remove the meaningless stopping words\n",
    "#     token2=[t for t in token1 if t not in sw]\n",
    "#     #stemming transformation\n",
    "#     token3=[ps.stem(t) for t in token2]\n",
    "#     return token3"
   ]
  },
  {
   "cell_type": "code",
   "execution_count": 5,
   "metadata": {
    "ExecuteTime": {
     "end_time": "2020-02-12T14:00:47.749575Z",
     "start_time": "2020-02-12T14:00:21.335688Z"
    }
   },
   "outputs": [],
   "source": [
    "# # Takes time, about 26s\n",
    "# report_corpus['clean_report'] = report_corpus.report.apply(lambda x: ' '.join(mypreprocess(x)))"
   ]
  },
  {
   "cell_type": "code",
   "execution_count": 6,
   "metadata": {
    "ExecuteTime": {
     "end_time": "2020-02-12T14:01:16.168706Z",
     "start_time": "2020-02-12T14:00:47.752030Z"
    }
   },
   "outputs": [],
   "source": [
    "# # Takes time, about 28s\n",
    "# paragraph_corpus['clean_paragraph'] = paragraph_corpus.paragraph.apply(lambda x: ' '.join(mypreprocess(x)))"
   ]
  },
  {
   "cell_type": "code",
   "execution_count": 7,
   "metadata": {
    "ExecuteTime": {
     "end_time": "2020-02-12T14:01:49.008284Z",
     "start_time": "2020-02-12T14:01:16.172017Z"
    }
   },
   "outputs": [],
   "source": [
    "# # Take time, about 32s\n",
    "# # Clean sentences by sentences\n",
    "# sentence_corpus['clean_sentences'] = sentence_corpus.sentences.apply(lambda ss: [mypreprocess(x) for x in ss])"
   ]
  },
  {
   "cell_type": "code",
   "execution_count": 8,
   "metadata": {
    "ExecuteTime": {
     "end_time": "2020-02-12T14:01:49.566247Z",
     "start_time": "2020-02-12T14:01:49.010952Z"
    }
   },
   "outputs": [],
   "source": [
    "# with open('report_corpus.pkl', 'wb') as f:\n",
    "#     pickle.dump(report_corpus, f)\n",
    "# with open('paragraph_corpus.pkl', 'wb') as f:\n",
    "#     pickle.dump(paragraph_corpus, f)\n",
    "# with open('sentences_corpus.pkl', 'wb') as f:\n",
    "#     pickle.dump(sentence_corpus, f)"
   ]
  },
  {
   "cell_type": "markdown",
   "metadata": {},
   "source": [
    "Load pickled data directly the next time"
   ]
  },
  {
   "cell_type": "code",
   "execution_count": 9,
   "metadata": {
    "ExecuteTime": {
     "end_time": "2020-02-13T10:46:28.917342Z",
     "start_time": "2020-02-13T10:46:28.893102Z"
    }
   },
   "outputs": [],
   "source": [
    "# Load cached report-level corpus\n",
    "with open('report_corpus.pkl', 'rb') as f:\n",
    "    report_corpus = pickle.load(f)"
   ]
  },
  {
   "cell_type": "code",
   "execution_count": 10,
   "metadata": {
    "ExecuteTime": {
     "end_time": "2020-02-13T10:46:29.152785Z",
     "start_time": "2020-02-13T10:46:29.101050Z"
    }
   },
   "outputs": [],
   "source": [
    "# Load cached paragraph-level corpus\n",
    "with open('paragraph_corpus.pkl', 'rb') as f:\n",
    "    paragraph_corpus = pickle.load(f)"
   ]
  },
  {
   "cell_type": "code",
   "execution_count": 11,
   "metadata": {
    "ExecuteTime": {
     "end_time": "2020-02-13T10:46:29.767827Z",
     "start_time": "2020-02-13T10:46:29.410402Z"
    }
   },
   "outputs": [],
   "source": [
    "# Load cached sentence-level corpus\n",
    "with open('sentences_corpus.pkl', 'rb') as f:\n",
    "    sentence_corpus = pickle.load(f)"
   ]
  },
  {
   "cell_type": "markdown",
   "metadata": {},
   "source": [
    "## Latent Semantic Analysis (LSA)\n",
    "Compute `tf-idf` **document term frequency** matrix.\n",
    "- **Analyze with report-level corpus first**"
   ]
  },
  {
   "cell_type": "code",
   "execution_count": 12,
   "metadata": {
    "ExecuteTime": {
     "end_time": "2020-02-13T10:46:35.804494Z",
     "start_time": "2020-02-13T10:46:35.122451Z"
    }
   },
   "outputs": [
    {
     "name": "stdout",
     "output_type": "stream",
     "text": [
      "(70, 2284)\n"
     ]
    }
   ],
   "source": [
    "vectorizer = TfidfVectorizer(min_df=0.1, stop_words=stopwords.words('english'))\n",
    "tfidf_obj = vectorizer.fit_transform(report_corpus.clean_report)\n",
    "X = tfidf_obj.toarray()\n",
    "print(X.shape)"
   ]
  },
  {
   "cell_type": "code",
   "execution_count": 13,
   "metadata": {
    "ExecuteTime": {
     "end_time": "2020-02-13T10:46:35.826687Z",
     "start_time": "2020-02-13T10:46:35.809406Z"
    }
   },
   "outputs": [
    {
     "data": {
      "text/plain": [
       "['abat',\n",
       " 'abil',\n",
       " 'abl',\n",
       " 'abnorm',\n",
       " 'abolit',\n",
       " 'abroad',\n",
       " 'abrupt',\n",
       " 'absenc',\n",
       " 'absent',\n",
       " 'absolut']"
      ]
     },
     "execution_count": 13,
     "metadata": {},
     "output_type": "execute_result"
    }
   ],
   "source": [
    "vectorizer.get_feature_names()[:10]"
   ]
  },
  {
   "cell_type": "markdown",
   "metadata": {},
   "source": [
    "Use Singular Value Decomposition (SVD) to obtain LSA components"
   ]
  },
  {
   "cell_type": "code",
   "execution_count": 14,
   "metadata": {
    "ExecuteTime": {
     "end_time": "2020-02-13T10:46:36.785749Z",
     "start_time": "2020-02-13T10:46:35.833381Z"
    }
   },
   "outputs": [],
   "source": [
    "A, sigma, B_T = np.linalg.svd(X)"
   ]
  },
  {
   "cell_type": "markdown",
   "metadata": {
    "ExecuteTime": {
     "end_time": "2020-02-11T02:23:56.869789Z",
     "start_time": "2020-02-11T02:23:56.862841Z"
    }
   },
   "source": [
    "The reduced dimensionality parameter $k$"
   ]
  },
  {
   "cell_type": "code",
   "execution_count": 15,
   "metadata": {
    "ExecuteTime": {
     "end_time": "2020-02-13T10:46:36.794834Z",
     "start_time": "2020-02-13T10:46:36.789637Z"
    }
   },
   "outputs": [],
   "source": [
    "k = 10\n",
    "# k = 2"
   ]
  },
  {
   "cell_type": "code",
   "execution_count": 16,
   "metadata": {
    "ExecuteTime": {
     "end_time": "2020-02-13T10:46:36.810782Z",
     "start_time": "2020-02-13T10:46:36.798320Z"
    }
   },
   "outputs": [],
   "source": [
    "D = X.shape[0]\n",
    "V = X.shape[1]\n",
    "major_N = min(D, V)\n",
    "Sigma = np.zeros(shape=(D, V))\n",
    "Sigma[:major_N, :major_N] = np.diag(sigma) "
   ]
  },
  {
   "cell_type": "code",
   "execution_count": 17,
   "metadata": {
    "ExecuteTime": {
     "end_time": "2020-02-13T10:46:36.835500Z",
     "start_time": "2020-02-13T10:46:36.815856Z"
    }
   },
   "outputs": [],
   "source": [
    "# Reduced Sigma matrix\n",
    "Sigma_k = np.copy(Sigma)\n",
    "# Set diagonal entries other than the first k as zero\n",
    "Sigma_k[k:major_N, k:major_N] = 0"
   ]
  },
  {
   "cell_type": "code",
   "execution_count": 18,
   "metadata": {
    "ExecuteTime": {
     "end_time": "2020-02-13T10:46:36.871187Z",
     "start_time": "2020-02-13T10:46:36.838561Z"
    }
   },
   "outputs": [
    {
     "name": "stdout",
     "output_type": "stream",
     "text": [
      "Variance explained by rank 10 approximation:\n",
      "93.71%\n"
     ]
    }
   ],
   "source": [
    "# Total variance explained by order k\n",
    "vars_explained = np.square(sigma) / np.sum(np.square(sigma))\n",
    "print(f'Variance explained by rank {k} approximation:')\n",
    "print('{:.2f}%'.format(100 * np.sum(vars_explained[:k])))"
   ]
  },
  {
   "cell_type": "code",
   "execution_count": 19,
   "metadata": {
    "ExecuteTime": {
     "end_time": "2020-02-13T10:46:37.469493Z",
     "start_time": "2020-02-13T10:46:36.898164Z"
    }
   },
   "outputs": [],
   "source": [
    "import matplotlib.pyplot as plt\n",
    "plt.plot(np.cumsum(vars_explained));\n",
    "plt.xlabel('Rank k approxiamtion');\n",
    "plt.ylabel('Total variance explained');"
   ]
  },
  {
   "cell_type": "code",
   "execution_count": 20,
   "metadata": {
    "ExecuteTime": {
     "end_time": "2020-02-13T10:46:37.502046Z",
     "start_time": "2020-02-13T10:46:37.473797Z"
    }
   },
   "outputs": [],
   "source": [
    "# Compute low-dimension vectors representation of terms\n",
    "term_vectors_k = np.dot(Sigma_k, B_T)"
   ]
  },
  {
   "cell_type": "code",
   "execution_count": 21,
   "metadata": {
    "ExecuteTime": {
     "end_time": "2020-02-13T10:48:05.031238Z",
     "start_time": "2020-02-13T10:46:37.504942Z"
    }
   },
   "outputs": [],
   "source": [
    "# Cosine similarities matrix of columns vectors\n",
    "def cos_sim(a, b):\n",
    "    return np.dot(a, b) / (norm(a) * norm(b))\n",
    "cos_sim_matrix = np.zeros(shape=(term_vectors_k.shape[1], term_vectors_k.shape[1]))\n",
    "for c_idx1 in range(term_vectors_k.shape[1]):\n",
    "    for c_idx2 in range(term_vectors_k.shape[1]):\n",
    "        c1 = term_vectors_k[:, c_idx1]\n",
    "        c2 = term_vectors_k[:, c_idx2]\n",
    "        cos_sim_matrix[c_idx1, c_idx2] = cos_sim(c1, c2)    "
   ]
  },
  {
   "cell_type": "code",
   "execution_count": 22,
   "metadata": {
    "ExecuteTime": {
     "end_time": "2020-02-13T10:48:05.045464Z",
     "start_time": "2020-02-13T10:48:05.035025Z"
    }
   },
   "outputs": [
    {
     "data": {
      "text/plain": [
       "(2284, 2284)"
      ]
     },
     "execution_count": 22,
     "metadata": {},
     "output_type": "execute_result"
    }
   ],
   "source": [
    "# 2284 terms, cross cosine similarity\n",
    "cos_sim_matrix.shape"
   ]
  },
  {
   "cell_type": "code",
   "execution_count": 23,
   "metadata": {
    "ExecuteTime": {
     "end_time": "2020-02-13T10:48:05.067714Z",
     "start_time": "2020-02-13T10:48:05.050742Z"
    }
   },
   "outputs": [],
   "source": [
    "term_names = vectorizer.get_feature_names()\n",
    "inflation_sim = pd.DataFrame(index=term_names,\n",
    "                             data={'Cosine Similarity':cos_sim_matrix[:, term_names.index('inflat')]})\n",
    "inflation_sim = inflation_sim.sort_values(by='Cosine Similarity', ascending=False)"
   ]
  },
  {
   "cell_type": "code",
   "execution_count": 24,
   "metadata": {
    "ExecuteTime": {
     "end_time": "2020-02-13T10:48:05.091839Z",
     "start_time": "2020-02-13T10:48:05.076731Z"
    }
   },
   "outputs": [
    {
     "data": {
      "text/html": [
       "<div>\n",
       "<style scoped>\n",
       "    .dataframe tbody tr th:only-of-type {\n",
       "        vertical-align: middle;\n",
       "    }\n",
       "\n",
       "    .dataframe tbody tr th {\n",
       "        vertical-align: top;\n",
       "    }\n",
       "\n",
       "    .dataframe thead th {\n",
       "        text-align: right;\n",
       "    }\n",
       "</style>\n",
       "<table border=\"1\" class=\"dataframe\">\n",
       "  <thead>\n",
       "    <tr style=\"text-align: right;\">\n",
       "      <th></th>\n",
       "      <th>Cosine Similarity</th>\n",
       "    </tr>\n",
       "  </thead>\n",
       "  <tbody>\n",
       "    <tr>\n",
       "      <th>inflat</th>\n",
       "      <td>1.000000</td>\n",
       "    </tr>\n",
       "    <tr>\n",
       "      <th>determin</th>\n",
       "      <td>0.997507</td>\n",
       "    </tr>\n",
       "    <tr>\n",
       "      <th>factor</th>\n",
       "      <td>0.995946</td>\n",
       "    </tr>\n",
       "    <tr>\n",
       "      <th>also</th>\n",
       "      <td>0.992158</td>\n",
       "    </tr>\n",
       "    <tr>\n",
       "      <th>make</th>\n",
       "      <td>0.989071</td>\n",
       "    </tr>\n",
       "    <tr>\n",
       "      <th>impli</th>\n",
       "      <td>0.988861</td>\n",
       "    </tr>\n",
       "    <tr>\n",
       "      <th>import</th>\n",
       "      <td>0.988763</td>\n",
       "    </tr>\n",
       "    <tr>\n",
       "      <th>increas</th>\n",
       "      <td>0.988342</td>\n",
       "    </tr>\n",
       "    <tr>\n",
       "      <th>reflect</th>\n",
       "      <td>0.987038</td>\n",
       "    </tr>\n",
       "    <tr>\n",
       "      <th>follow</th>\n",
       "      <td>0.986896</td>\n",
       "    </tr>\n",
       "  </tbody>\n",
       "</table>\n",
       "</div>"
      ],
      "text/plain": [
       "          Cosine Similarity\n",
       "inflat             1.000000\n",
       "determin           0.997507\n",
       "factor             0.995946\n",
       "also               0.992158\n",
       "make               0.989071\n",
       "impli              0.988861\n",
       "import             0.988763\n",
       "increas            0.988342\n",
       "reflect            0.987038\n",
       "follow             0.986896"
      ]
     },
     "execution_count": 24,
     "metadata": {},
     "output_type": "execute_result"
    }
   ],
   "source": [
    "inflation_sim.iloc[:10, ]"
   ]
  },
  {
   "cell_type": "markdown",
   "metadata": {},
   "source": [
    "### **Analyze with paragraph-level corpus**\n",
    "Unlike with the report-level corpus, for paragraphs, we reduced the minimum document frequency threshold to 0.01. This ends up with a 701-term feature space."
   ]
  },
  {
   "cell_type": "code",
   "execution_count": 25,
   "metadata": {
    "ExecuteTime": {
     "end_time": "2020-02-13T10:48:05.999699Z",
     "start_time": "2020-02-13T10:48:05.094731Z"
    }
   },
   "outputs": [
    {
     "name": "stdout",
     "output_type": "stream",
     "text": [
      "(15023, 701)\n"
     ]
    }
   ],
   "source": [
    "vectorizer = TfidfVectorizer(min_df=0.01, stop_words=stopwords.words('english'))\n",
    "tfidf_obj = vectorizer.fit_transform(paragraph_corpus.clean_paragraph)  # Paragraph\n",
    "X = tfidf_obj.toarray()\n",
    "print(X.shape)"
   ]
  },
  {
   "cell_type": "code",
   "execution_count": 26,
   "metadata": {
    "ExecuteTime": {
     "end_time": "2020-02-13T10:48:06.012295Z",
     "start_time": "2020-02-13T10:48:06.003227Z"
    }
   },
   "outputs": [
    {
     "data": {
      "text/plain": [
       "['abil',\n",
       " 'abl',\n",
       " 'abroad',\n",
       " 'access',\n",
       " 'accord',\n",
       " 'account',\n",
       " 'across',\n",
       " 'act',\n",
       " 'activ',\n",
       " 'actual']"
      ]
     },
     "execution_count": 26,
     "metadata": {},
     "output_type": "execute_result"
    }
   ],
   "source": [
    "vectorizer.get_feature_names()[:10]"
   ]
  },
  {
   "cell_type": "markdown",
   "metadata": {},
   "source": [
    "Use Singular Value Decomposition (SVD) to obtain LSA components"
   ]
  },
  {
   "cell_type": "code",
   "execution_count": 27,
   "metadata": {
    "ExecuteTime": {
     "end_time": "2020-02-13T10:48:26.521117Z",
     "start_time": "2020-02-13T10:48:06.015583Z"
    }
   },
   "outputs": [],
   "source": [
    "# Takes time, about 18s\n",
    "A, sigma, B_T = np.linalg.svd(X)"
   ]
  },
  {
   "cell_type": "markdown",
   "metadata": {
    "ExecuteTime": {
     "end_time": "2020-02-11T02:23:56.869789Z",
     "start_time": "2020-02-11T02:23:56.862841Z"
    }
   },
   "source": [
    "The reduced dimensionality parameter $k$"
   ]
  },
  {
   "cell_type": "code",
   "execution_count": 28,
   "metadata": {
    "ExecuteTime": {
     "end_time": "2020-02-13T10:48:26.549133Z",
     "start_time": "2020-02-13T10:48:26.542872Z"
    }
   },
   "outputs": [],
   "source": [
    "k = 10\n",
    "# k = 2"
   ]
  },
  {
   "cell_type": "code",
   "execution_count": 29,
   "metadata": {
    "ExecuteTime": {
     "end_time": "2020-02-13T10:48:26.566833Z",
     "start_time": "2020-02-13T10:48:26.554516Z"
    }
   },
   "outputs": [],
   "source": [
    "D = X.shape[0]\n",
    "V = X.shape[1]\n",
    "major_N = min(D, V)\n",
    "Sigma = np.zeros(shape=(D, V))\n",
    "Sigma[:major_N, :major_N] = np.diag(sigma) "
   ]
  },
  {
   "cell_type": "code",
   "execution_count": 30,
   "metadata": {
    "ExecuteTime": {
     "end_time": "2020-02-13T10:48:26.654518Z",
     "start_time": "2020-02-13T10:48:26.571373Z"
    }
   },
   "outputs": [],
   "source": [
    "# Reduced Sigma matrix\n",
    "Sigma_k = np.copy(Sigma)\n",
    "# Set diagonal entries other than the first k as zero\n",
    "Sigma_k[k:major_N, k:major_N] = 0"
   ]
  },
  {
   "cell_type": "markdown",
   "metadata": {},
   "source": [
    "Variance explained by `k=10` approximation is much lower."
   ]
  },
  {
   "cell_type": "code",
   "execution_count": 31,
   "metadata": {
    "ExecuteTime": {
     "end_time": "2020-02-13T10:48:26.666290Z",
     "start_time": "2020-02-13T10:48:26.657107Z"
    }
   },
   "outputs": [
    {
     "name": "stdout",
     "output_type": "stream",
     "text": [
      "Variance explained by rank 10 approximation:\n",
      "19.28%\n"
     ]
    }
   ],
   "source": [
    "# Total variance explained by order k\n",
    "vars_explained = np.square(sigma) / np.sum(np.square(sigma))\n",
    "print(f'Variance explained by rank {k} approximation:')\n",
    "print('{:.2f}%'.format(100 * np.sum(vars_explained[:k])))"
   ]
  },
  {
   "cell_type": "code",
   "execution_count": 32,
   "metadata": {
    "ExecuteTime": {
     "end_time": "2020-02-13T10:48:26.905235Z",
     "start_time": "2020-02-13T10:48:26.669188Z"
    }
   },
   "outputs": [
    {
     "data": {
      "image/png": "[encoded data removed]",
      "text/plain": [
       "<Figure size 432x288 with 1 Axes>"
      ]
     },
     "metadata": {
      "needs_background": "light"
     },
     "output_type": "display_data"
    }
   ],
   "source": [
    "import matplotlib.pyplot as plt\n",
    "plt.plot(np.cumsum(vars_explained));\n",
    "plt.xlabel('Rank k approxiamtion');\n",
    "plt.ylabel('Total variance explained');"
   ]
  },
  {
   "cell_type": "code",
   "execution_count": 33,
   "metadata": {
    "ExecuteTime": {
     "end_time": "2020-02-13T10:48:27.461783Z",
     "start_time": "2020-02-13T10:48:26.914453Z"
    }
   },
   "outputs": [],
   "source": [
    "# Compute low-dimension vectors representation of terms\n",
    "term_vectors_k = np.dot(Sigma_k, B_T)"
   ]
  },
  {
   "cell_type": "code",
   "execution_count": 34,
   "metadata": {
    "ExecuteTime": {
     "end_time": "2020-02-13T10:48:28.020158Z",
     "start_time": "2020-02-13T10:48:27.470794Z"
    }
   },
   "outputs": [],
   "source": [
    "# Compute similarities againts inflat\n",
    "def cos_sim(a, b):\n",
    "    return np.dot(a, b) / (norm(a) * norm(b))\n",
    "\n",
    "inflat_vector = term_vectors_k[:, vectorizer.get_feature_names().index('inflat')]\n",
    "sim_against_inflat = []\n",
    "for c_idx in range(term_vectors_k.shape[1]):\n",
    "    sim_against_inflat.append(cos_sim(term_vectors_k[:, c_idx], inflat_vector))\n",
    "\n",
    "inflation_sim = pd.DataFrame(data={'term': vectorizer.get_feature_names(),\n",
    "                                  'similarity': sim_against_inflat})\\\n",
    "                        .sort_values(by='similarity', ascending=False)"
   ]
  },
  {
   "cell_type": "code",
   "execution_count": 35,
   "metadata": {
    "ExecuteTime": {
     "end_time": "2020-02-13T10:48:28.062530Z",
     "start_time": "2020-02-13T10:48:28.025914Z"
    }
   },
   "outputs": [
    {
     "data": {
      "text/html": [
       "<div>\n",
       "<style scoped>\n",
       "    .dataframe tbody tr th:only-of-type {\n",
       "        vertical-align: middle;\n",
       "    }\n",
       "\n",
       "    .dataframe tbody tr th {\n",
       "        vertical-align: top;\n",
       "    }\n",
       "\n",
       "    .dataframe thead th {\n",
       "        text-align: right;\n",
       "    }\n",
       "</style>\n",
       "<table border=\"1\" class=\"dataframe\">\n",
       "  <thead>\n",
       "    <tr style=\"text-align: right;\">\n",
       "      <th></th>\n",
       "      <th>term</th>\n",
       "      <th>similarity</th>\n",
       "    </tr>\n",
       "  </thead>\n",
       "  <tbody>\n",
       "    <tr>\n",
       "      <th>295</th>\n",
       "      <td>inflat</td>\n",
       "      <td>1.000000</td>\n",
       "    </tr>\n",
       "    <tr>\n",
       "      <th>121</th>\n",
       "      <td>cpi</td>\n",
       "      <td>0.981362</td>\n",
       "    </tr>\n",
       "    <tr>\n",
       "      <th>626</th>\n",
       "      <td>target</td>\n",
       "      <td>0.938470</td>\n",
       "    </tr>\n",
       "    <tr>\n",
       "      <th>673</th>\n",
       "      <td>vat</td>\n",
       "      <td>0.890062</td>\n",
       "    </tr>\n",
       "    <tr>\n",
       "      <th>541</th>\n",
       "      <td>rpix</td>\n",
       "      <td>0.889457</td>\n",
       "    </tr>\n",
       "    <tr>\n",
       "      <th>168</th>\n",
       "      <td>drop</td>\n",
       "      <td>0.873432</td>\n",
       "    </tr>\n",
       "    <tr>\n",
       "      <th>156</th>\n",
       "      <td>diminish</td>\n",
       "      <td>0.859187</td>\n",
       "    </tr>\n",
       "    <tr>\n",
       "      <th>93</th>\n",
       "      <td>comparison</td>\n",
       "      <td>0.850554</td>\n",
       "    </tr>\n",
       "    <tr>\n",
       "      <th>672</th>\n",
       "      <td>variou</td>\n",
       "      <td>0.846415</td>\n",
       "    </tr>\n",
       "    <tr>\n",
       "      <th>368</th>\n",
       "      <td>medium</td>\n",
       "      <td>0.842093</td>\n",
       "    </tr>\n",
       "  </tbody>\n",
       "</table>\n",
       "</div>"
      ],
      "text/plain": [
       "           term  similarity\n",
       "295      inflat    1.000000\n",
       "121         cpi    0.981362\n",
       "626      target    0.938470\n",
       "673         vat    0.890062\n",
       "541        rpix    0.889457\n",
       "168        drop    0.873432\n",
       "156    diminish    0.859187\n",
       "93   comparison    0.850554\n",
       "672      variou    0.846415\n",
       "368      medium    0.842093"
      ]
     },
     "execution_count": 35,
     "metadata": {},
     "output_type": "execute_result"
    }
   ],
   "source": [
    "inflation_sim.head(10)"
   ]
  },
  {
   "cell_type": "markdown",
   "metadata": {},
   "source": [
    "Observation: we might assert that paragraph-level corpus actually yields a better similarity analysis than report-level corpus. It sucessfully identifies similar terms of 'inflat', such as 'cpi', 'target', 'VAT' and 'RPIX'.\n",
    "\n",
    "Note: **'RPIX'** is measure of inflation in United Kingdom. It stands for *Retail Price Index (RPI) excluding mortgage interest payments*. [Wikipedia](https://en.wikipedia.org/wiki/RPIX)"
   ]
  },
  {
   "cell_type": "markdown",
   "metadata": {},
   "source": [
    "### K-mean Clustering on paragraph-level corpus"
   ]
  },
  {
   "cell_type": "code",
   "execution_count": 36,
   "metadata": {
    "ExecuteTime": {
     "end_time": "2020-02-13T10:48:28.084086Z",
     "start_time": "2020-02-13T10:48:28.077948Z"
    }
   },
   "outputs": [],
   "source": [
    "N_cluster = 5\n",
    "kmc = KMeansClusterer(N_cluster, distance=cosine_distance, repeats=25)"
   ]
  },
  {
   "cell_type": "markdown",
   "metadata": {},
   "source": [
    "Note that we strip out zeros in the bottom of `term_vectors_k` simply for convience in this step. This doesn't affect anything because the bottom zeros don't contribute anything to the more-than-k dimensionalities.\n",
    "Recall that `term_vectors_k`=$\\Sigma_kB^T_k$, whose $V$ column vectors in $\\mathcal{R^k}$ correspond to $V$ terms' lower-dimension representations."
   ]
  },
  {
   "cell_type": "code",
   "execution_count": 37,
   "metadata": {
    "ExecuteTime": {
     "end_time": "2020-02-13T10:48:36.929281Z",
     "start_time": "2020-02-13T10:48:28.087027Z"
    }
   },
   "outputs": [],
   "source": [
    "# Strip out the lower zeros in term vectors \n",
    "cr = kmc.cluster(term_vectors_k[:k, :].T, assign_clusters=True)"
   ]
  },
  {
   "cell_type": "code",
   "execution_count": 38,
   "metadata": {
    "ExecuteTime": {
     "end_time": "2020-02-13T10:48:36.939125Z",
     "start_time": "2020-02-13T10:48:36.931470Z"
    }
   },
   "outputs": [],
   "source": [
    "term_topic_assignment = pd.DataFrame({'term': vectorizer.get_feature_names(),\n",
    "                                     'topic': cr}).sort_values(by='topic').set_index('topic')"
   ]
  },
  {
   "cell_type": "code",
   "execution_count": 39,
   "metadata": {
    "ExecuteTime": {
     "end_time": "2020-02-13T10:48:36.969032Z",
     "start_time": "2020-02-13T10:48:36.950188Z"
    }
   },
   "outputs": [
    {
     "data": {
      "text/html": [
       "<div>\n",
       "<style scoped>\n",
       "    .dataframe tbody tr th:only-of-type {\n",
       "        vertical-align: middle;\n",
       "    }\n",
       "\n",
       "    .dataframe tbody tr th {\n",
       "        vertical-align: top;\n",
       "    }\n",
       "\n",
       "    .dataframe thead th {\n",
       "        text-align: right;\n",
       "    }\n",
       "</style>\n",
       "<table border=\"1\" class=\"dataframe\">\n",
       "  <thead>\n",
       "    <tr style=\"text-align: right;\">\n",
       "      <th></th>\n",
       "      <th>term</th>\n",
       "    </tr>\n",
       "    <tr>\n",
       "      <th>topic</th>\n",
       "      <th></th>\n",
       "    </tr>\n",
       "  </thead>\n",
       "  <tbody>\n",
       "    <tr>\n",
       "      <th>0</th>\n",
       "      <td>lowest</td>\n",
       "    </tr>\n",
       "    <tr>\n",
       "      <th>0</th>\n",
       "      <td>employe</td>\n",
       "    </tr>\n",
       "    <tr>\n",
       "      <th>0</th>\n",
       "      <td>employ</td>\n",
       "    </tr>\n",
       "    <tr>\n",
       "      <th>0</th>\n",
       "      <td>earn</td>\n",
       "    </tr>\n",
       "    <tr>\n",
       "      <th>0</th>\n",
       "      <td>recruit</td>\n",
       "    </tr>\n",
       "    <tr>\n",
       "      <th>...</th>\n",
       "      <td>...</td>\n",
       "    </tr>\n",
       "    <tr>\n",
       "      <th>4</th>\n",
       "      <td>date</td>\n",
       "    </tr>\n",
       "    <tr>\n",
       "      <th>4</th>\n",
       "      <td>save</td>\n",
       "    </tr>\n",
       "    <tr>\n",
       "      <th>4</th>\n",
       "      <td>scheme</td>\n",
       "    </tr>\n",
       "    <tr>\n",
       "      <th>4</th>\n",
       "      <td>credit</td>\n",
       "    </tr>\n",
       "    <tr>\n",
       "      <th>4</th>\n",
       "      <td>abil</td>\n",
       "    </tr>\n",
       "  </tbody>\n",
       "</table>\n",
       "<p>701 rows × 1 columns</p>\n",
       "</div>"
      ],
      "text/plain": [
       "          term\n",
       "topic         \n",
       "0       lowest\n",
       "0      employe\n",
       "0       employ\n",
       "0         earn\n",
       "0      recruit\n",
       "...        ...\n",
       "4         date\n",
       "4         save\n",
       "4       scheme\n",
       "4       credit\n",
       "4         abil\n",
       "\n",
       "[701 rows x 1 columns]"
      ]
     },
     "execution_count": 39,
     "metadata": {},
     "output_type": "execute_result"
    }
   ],
   "source": [
    "term_topic_assignment"
   ]
  },
  {
   "cell_type": "markdown",
   "metadata": {},
   "source": [
    "## `word2vec`\n",
    "Try different windows\n",
    "### CBOW version"
   ]
  },
  {
   "cell_type": "code",
   "execution_count": 40,
   "metadata": {
    "ExecuteTime": {
     "end_time": "2020-02-13T10:48:36.995896Z",
     "start_time": "2020-02-13T10:48:36.976072Z"
    }
   },
   "outputs": [],
   "source": [
    "sentences = [sent for sents in sentence_corpus.clean_sentences for sent in sents]"
   ]
  },
  {
   "cell_type": "code",
   "execution_count": 41,
   "metadata": {
    "ExecuteTime": {
     "end_time": "2020-02-13T10:49:01.912094Z",
     "start_time": "2020-02-13T10:48:36.999163Z"
    }
   },
   "outputs": [],
   "source": [
    "CBOW = gensim.models.Word2Vec(sentences,\n",
    "                              sg=0, # CBOW\n",
    "                              min_count=3,  # Ignore words that appear less than this\n",
    "                              size=200,  # Dimensionality of word embeddings\n",
    "                              workers=2,  # Number of processors (parallelisation)\n",
    "                              window=5,  # Context window for words during train\n",
    "                              iter=30)"
   ]
  },
  {
   "cell_type": "markdown",
   "metadata": {},
   "source": [
    "The word-embedding vector of \"inflat\""
   ]
  },
  {
   "cell_type": "code",
   "execution_count": 42,
   "metadata": {
    "ExecuteTime": {
     "end_time": "2020-02-13T10:52:40.529242Z",
     "start_time": "2020-02-13T10:52:40.521076Z"
    }
   },
   "outputs": [
    {
     "data": {
      "text/plain": [
       "(200,)"
      ]
     },
     "execution_count": 42,
     "metadata": {},
     "output_type": "execute_result"
    }
   ],
   "source": [
    "CBOW.wv['inflat'].shape"
   ]
  },
  {
   "cell_type": "code",
   "execution_count": 43,
   "metadata": {
    "ExecuteTime": {
     "end_time": "2020-02-13T10:49:01.964381Z",
     "start_time": "2020-02-13T10:49:01.926753Z"
    }
   },
   "outputs": [
    {
     "data": {
      "text/plain": [
       "[('rpix', 0.45503315329551697),\n",
       " ('cpi', 0.37930798530578613),\n",
       " ('petrol', 0.3643169403076172),\n",
       " ('energi', 0.3510257601737976),\n",
       " ('price', 0.3495141863822937),\n",
       " ('target', 0.3207089900970459),\n",
       " ('inflationari', 0.3105059862136841),\n",
       " ('rpi', 0.3075481951236725),\n",
       " ('food', 0.2826911211013794),\n",
       " ('remaind', 0.2790200114250183)]"
      ]
     },
     "execution_count": 43,
     "metadata": {},
     "output_type": "execute_result"
    }
   ],
   "source": [
    "CBOW.wv.most_similar('inflat')"
   ]
  },
  {
   "cell_type": "markdown",
   "metadata": {},
   "source": [
    "Now vary the window length to 10"
   ]
  },
  {
   "cell_type": "code",
   "execution_count": 44,
   "metadata": {
    "ExecuteTime": {
     "end_time": "2020-02-13T10:52:43.808533Z",
     "start_time": "2020-02-13T10:52:43.797420Z"
    }
   },
   "outputs": [],
   "source": [
    "sentences = [sent for sents in sentence_corpus.clean_sentences for sent in sents]"
   ]
  },
  {
   "cell_type": "code",
   "execution_count": 45,
   "metadata": {
    "ExecuteTime": {
     "end_time": "2020-02-13T10:59:17.700322Z",
     "start_time": "2020-02-13T10:58:50.857049Z"
    }
   },
   "outputs": [],
   "source": [
    "CBOW = gensim.models.Word2Vec(sentences,\n",
    "                              sg=0, # CBOW\n",
    "                              min_count=3,  # Ignore words that appear less than this\n",
    "                              size=200,  # Dimensionality of word embeddings\n",
    "                              workers=2,  # Number of processors (parallelisation)\n",
    "                              window=10,  # Context window for words during train\n",
    "                              iter=30)"
   ]
  },
  {
   "cell_type": "markdown",
   "metadata": {},
   "source": [
    "The word-embedding vector of \"inflat\""
   ]
  },
  {
   "cell_type": "code",
   "execution_count": 46,
   "metadata": {
    "ExecuteTime": {
     "end_time": "2020-02-13T10:59:17.710568Z",
     "start_time": "2020-02-13T10:59:17.702684Z"
    }
   },
   "outputs": [
    {
     "data": {
      "text/plain": [
       "(200,)"
      ]
     },
     "execution_count": 46,
     "metadata": {},
     "output_type": "execute_result"
    }
   ],
   "source": [
    "CBOW.wv['inflat'].shape"
   ]
  },
  {
   "cell_type": "code",
   "execution_count": 47,
   "metadata": {
    "ExecuteTime": {
     "end_time": "2020-02-13T10:59:17.743326Z",
     "start_time": "2020-02-13T10:59:17.715564Z"
    }
   },
   "outputs": [
    {
     "data": {
      "text/plain": [
       "[('rpix', 0.4332500696182251),\n",
       " ('price', 0.36934417486190796),\n",
       " ('energi', 0.36805403232574463),\n",
       " ('petrol', 0.36696740984916687),\n",
       " ('inflationari', 0.3286275863647461),\n",
       " ('cpi', 0.3263664245605469),\n",
       " ('food', 0.3195022642612457),\n",
       " ('util', 0.3039674758911133),\n",
       " ('interplay', 0.2986896336078644),\n",
       " ('commod', 0.29155588150024414)]"
      ]
     },
     "execution_count": 47,
     "metadata": {},
     "output_type": "execute_result"
    }
   ],
   "source": [
    "CBOW.wv.most_similar('inflat')"
   ]
  },
  {
   "cell_type": "markdown",
   "metadata": {},
   "source": [
    "Observation: after increasing the window length to 10, we found that the top 6 similar words of 'inflat' are almost unchanged. They are simply shuffled in order."
   ]
  },
  {
   "cell_type": "markdown",
   "metadata": {},
   "source": [
    "### Skip-gram version"
   ]
  },
  {
   "cell_type": "code",
   "execution_count": 48,
   "metadata": {
    "ExecuteTime": {
     "end_time": "2020-02-13T10:50:15.506586Z",
     "start_time": "2020-02-13T10:49:01.969002Z"
    }
   },
   "outputs": [],
   "source": [
    "SKIP = gensim.models.Word2Vec(sentences,sg=1, # skip-gram\n",
    "                              min_count=3,  # Ignore words that appear less than this\n",
    "                              size=200,  # Dimensionality of word embeddings\n",
    "                              workers=2,  # Number of processors (parallelisation)\n",
    "                              window=5,  # Context window for words during train\n",
    "                              iter=30)"
   ]
  },
  {
   "cell_type": "code",
   "execution_count": 49,
   "metadata": {
    "ExecuteTime": {
     "end_time": "2020-02-13T10:50:15.515823Z",
     "start_time": "2020-02-13T10:50:15.508773Z"
    }
   },
   "outputs": [
    {
     "data": {
      "text/plain": [
       "(200,)"
      ]
     },
     "execution_count": 49,
     "metadata": {},
     "output_type": "execute_result"
    }
   ],
   "source": [
    "SKIP.wv['inflat'].shape"
   ]
  },
  {
   "cell_type": "markdown",
   "metadata": {},
   "source": [
    "The top 10 similar words of \"inflat\", and similarities."
   ]
  },
  {
   "cell_type": "code",
   "execution_count": 50,
   "metadata": {
    "ExecuteTime": {
     "end_time": "2020-02-13T10:50:15.533090Z",
     "start_time": "2020-02-13T10:50:15.519188Z"
    }
   },
   "outputs": [
    {
     "data": {
      "text/plain": [
       "[('cpi', 0.5825357437133789),\n",
       " ('rpix', 0.5583981275558472),\n",
       " ('target', 0.5347272157669067),\n",
       " ('price', 0.4585423469543457),\n",
       " ('symmetr', 0.4221271276473999),\n",
       " ('interplay', 0.4203638434410095),\n",
       " ('reportwa', 0.4097006618976593),\n",
       " ('somewher', 0.4080858528614044),\n",
       " ('dislodg', 0.39702609181404114),\n",
       " ('rpi', 0.39686882495880127)]"
      ]
     },
     "execution_count": 50,
     "metadata": {},
     "output_type": "execute_result"
    }
   ],
   "source": [
    "SKIP.wv.most_similar('inflat')"
   ]
  },
  {
   "cell_type": "markdown",
   "metadata": {},
   "source": [
    "Now vary the window length to 10"
   ]
  },
  {
   "cell_type": "code",
   "execution_count": 51,
   "metadata": {
    "ExecuteTime": {
     "end_time": "2020-02-13T11:02:27.180499Z",
     "start_time": "2020-02-13T11:00:56.871955Z"
    }
   },
   "outputs": [],
   "source": [
    "SKIP = gensim.models.Word2Vec(sentences,sg=1, # skip-gram\n",
    "                              min_count=3,  # Ignore words that appear less than this\n",
    "                              size=200,  # Dimensionality of word embeddings\n",
    "                              workers=2,  # Number of processors (parallelisation)\n",
    "                              window=10,  # Context window for words during train\n",
    "                              iter=30)"
   ]
  },
  {
   "cell_type": "code",
   "execution_count": 52,
   "metadata": {
    "ExecuteTime": {
     "end_time": "2020-02-13T11:02:27.191031Z",
     "start_time": "2020-02-13T11:02:27.182922Z"
    }
   },
   "outputs": [
    {
     "data": {
      "text/plain": [
       "(200,)"
      ]
     },
     "execution_count": 52,
     "metadata": {},
     "output_type": "execute_result"
    }
   ],
   "source": [
    "SKIP.wv['inflat'].shape"
   ]
  },
  {
   "cell_type": "markdown",
   "metadata": {},
   "source": [
    "The top 10 similar words of \"inflat\", and similarities."
   ]
  },
  {
   "cell_type": "code",
   "execution_count": 53,
   "metadata": {
    "ExecuteTime": {
     "end_time": "2020-02-13T11:02:27.229360Z",
     "start_time": "2020-02-13T11:02:27.201340Z"
    }
   },
   "outputs": [
    {
     "data": {
      "text/plain": [
       "[('cpi', 0.6412736773490906),\n",
       " ('target', 0.6014261841773987),\n",
       " ('rpix', 0.5998241901397705),\n",
       " ('price', 0.5153356790542603),\n",
       " ('setter', 0.4203907251358032),\n",
       " ('horizon', 0.41435688734054565),\n",
       " ('interplay', 0.40517517924308777),\n",
       " ('inflationari', 0.38848698139190674),\n",
       " ('beverag', 0.3856521248817444),\n",
       " ('petrol', 0.3847038149833679)]"
      ]
     },
     "execution_count": 53,
     "metadata": {},
     "output_type": "execute_result"
    }
   ],
   "source": [
    "SKIP.wv.most_similar('inflat')"
   ]
  },
  {
   "cell_type": "markdown",
   "metadata": {},
   "source": [
    "Observation: for the skip-gram algorithm version of `word2vec`, we might say that increasing window length helps searching for similar terms. We can identify more relevant term of 'inflat in this prolonged model."
   ]
  },
  {
   "cell_type": "markdown",
   "metadata": {},
   "source": [
    "## Vector representation of sentences\n",
    "\n",
    "Use Algorithm 1 in paper by Arora et al. (2017) to convert a word embedding to a sentence embedding.\n",
    "\n",
    "Here we used the first report on February, 1998 as the corpus, constructed SIF-weighted embedding for each sentence in the report."
   ]
  },
  {
   "cell_type": "code",
   "execution_count": 54,
   "metadata": {
    "ExecuteTime": {
     "end_time": "2020-02-13T10:50:15.560666Z",
     "start_time": "2020-02-13T10:50:15.537297Z"
    }
   },
   "outputs": [],
   "source": [
    "# Select the first report\n",
    "first_report = sentence_corpus.query('ir_date == 199802')\n",
    "report199802_sentences = [sent for sentences in first_report.clean_sentences for sent in sentences]\n",
    "report199802_sentences_raw = [sent for sentences in first_report.sentences for sent in sentences]"
   ]
  },
  {
   "cell_type": "code",
   "execution_count": 55,
   "metadata": {
    "ExecuteTime": {
     "end_time": "2020-02-13T10:50:16.311952Z",
     "start_time": "2020-02-13T10:50:15.565592Z"
    }
   },
   "outputs": [],
   "source": [
    "# Fit another CBOW model in the sentence in the first report\n",
    "CBOW = gensim.models.Word2Vec(report199802_sentences,sg=0, # CBOW\n",
    "                              min_count=3,  # Ignore words that appear less than this\n",
    "                              size=200,  # Dimensionality of word embeddings\n",
    "                              workers=2,  # Number of processors (parallelisation)\n",
    "                              window=5,  # Context window for words during train\n",
    "                              iter=30)"
   ]
  },
  {
   "cell_type": "code",
   "execution_count": 56,
   "metadata": {
    "ExecuteTime": {
     "end_time": "2020-02-13T10:50:16.328465Z",
     "start_time": "2020-02-13T10:50:16.314320Z"
    }
   },
   "outputs": [],
   "source": [
    "def word2sent_embedding(sentences, raw_sentences, w2v, alpha=0.001):\n",
    "    vocab = w2v.wv.vocab  # Keep track of all unique words in model\n",
    "    w_embedding = w2v.wv  # Embedding vectors of words\n",
    "    N = 0  # Total word cout in corpus\n",
    "    K = w2v.vector_size  # Dimension of word-embedding vectors\n",
    "    for v in vocab:\n",
    "        N += vocab[v].count\n",
    "    \n",
    "    X = []  # Placeholder for sentence embedding\n",
    "    sents = []  # Placeholder for qualified raw senetences (untokenized)\n",
    "    for i, sent in enumerate(sentences):\n",
    "        if len(sent) == 0:  # no token in sentences\n",
    "            continue\n",
    "        v = np.zeros(shape=K)\n",
    "        for word in sent:\n",
    "            valid_word_count = 0\n",
    "            if word in vocab:  # Some words are removed\n",
    "                valid_word_count += 1\n",
    "                v += (alpha / (alpha+vocab[word].count/N)) * w_embedding[word]\n",
    "        # Normalize by the length of the sentence\n",
    "        if valid_word_count == 0:\n",
    "            continue\n",
    "        v /= valid_word_count\n",
    "        X.append(v)\n",
    "        sents.append(raw_sentences[i])\n",
    "    \n",
    "    X_mat = np.array(X)  # K\n",
    "    # Remove common component\n",
    "    _, _, Vh = np.linalg.svd(X_mat)\n",
    "    V = Vh.T  # Columns are principal components of term embedding space (dimension R K)\n",
    "    assert V.shape[0] == K\n",
    "    u = V[:, 0].reshape(-1, 1)  # Force the first singular vector to be a column vector\n",
    "    for i in range(len(X)):\n",
    "        vs = X[i].reshape(-1, 1)\n",
    "        X[i] = (vs - np.dot(np.dot(u, u.T), vs)).reshape(-1)\n",
    "    \n",
    "    return sents, X"
   ]
  },
  {
   "cell_type": "code",
   "execution_count": 57,
   "metadata": {
    "ExecuteTime": {
     "end_time": "2020-02-13T10:50:16.543543Z",
     "start_time": "2020-02-13T10:50:16.334902Z"
    }
   },
   "outputs": [],
   "source": [
    "sents, sent_embeddings = word2sent_embedding(report199802_sentences,\n",
    "                                             report199802_sentences_raw,\n",
    "                                             CBOW)"
   ]
  },
  {
   "cell_type": "code",
   "execution_count": 58,
   "metadata": {
    "ExecuteTime": {
     "end_time": "2020-02-13T10:50:16.599247Z",
     "start_time": "2020-02-13T10:50:16.554621Z"
    }
   },
   "outputs": [
    {
     "data": {
      "text/plain": [
       "(200,)"
      ]
     },
     "execution_count": 58,
     "metadata": {},
     "output_type": "execute_result"
    }
   ],
   "source": [
    "sent_embeddings[0].shape"
   ]
  },
  {
   "cell_type": "markdown",
   "metadata": {},
   "source": [
    "### Cluster the sentence embedding using K-means algorithm"
   ]
  },
  {
   "cell_type": "code",
   "execution_count": 59,
   "metadata": {
    "ExecuteTime": {
     "end_time": "2020-02-13T10:50:33.806625Z",
     "start_time": "2020-02-13T10:50:16.606796Z"
    }
   },
   "outputs": [],
   "source": [
    "N_cluster = 10  # 10 topics\n",
    "kmc = KMeansClusterer(N_cluster, distance=cosine_distance, repeats=25)\n",
    "cr = kmc.cluster(sent_embeddings, assign_clusters=True)"
   ]
  },
  {
   "cell_type": "code",
   "execution_count": 60,
   "metadata": {
    "ExecuteTime": {
     "end_time": "2020-02-13T10:50:33.817193Z",
     "start_time": "2020-02-13T10:50:33.808731Z"
    }
   },
   "outputs": [],
   "source": [
    "sentence_cluster = pd.DataFrame(data={'sentence': sents,\n",
    "                  'topic': cr}).sort_values(by='topic').set_index('topic')"
   ]
  },
  {
   "cell_type": "code",
   "execution_count": 95,
   "metadata": {
    "ExecuteTime": {
     "end_time": "2020-02-13T10:50:33.849093Z",
     "start_time": "2020-02-13T10:50:33.821208Z"
    }
   },
   "outputs": [
    {
     "name": "stdout",
     "output_type": "stream",
     "text": [
      "                                                sentence\n",
      "topic                                                   \n",
      "0      Since then, output has risen at an average rat...\n",
      "0      The largest change was to cyclical social secu...\n",
      "0      The preliminary estimate of real GDP in 1997 Q...\n",
      "0      These data were published after the preliminar...\n",
      "0      Real GDP grew by 3.3% in 1997, the sixth year ...\n",
      "0      Revisions to real GDP data for 1997 Q3 and the...\n",
      "0      Average earnings growth was 43/4% in the twelv...\n",
      "0      At 6.6% of the workforce, it was 1.3 percentag...\n",
      "0      Longer-term inflation expectations can also be...\n",
      "0      The Pre-Budget Report on 25 November revised d...\n",
      "0      The Government announced in January this year ...\n",
      "0      The prices of imported goods in the three mont...\n",
      "0      On 4 February, the date on which data for this...\n",
      "0      Though most of this fall occurred at the start...\n",
      "0      This was much higher than in the previous thre...\n",
      "0      Annual output price inflation has been below 1...\n",
      "0      Since the start of 1995, annual RPIX inflation...\n",
      "0      Annual RPIX inflation in 1997 Q4 was slightly ...\n",
      "0      And the outturn for RPIX inflation in 1997 Q4 ...\n",
      "0      RPIX annual inflation was 2.7% in December, co...\n",
      "0      As a result, the current projection embodies a...\n",
      "0      Stocks, excluding the alignment adjustment, re...\n",
      "0      This may have reduced consumption growth by as...\n",
      "0      The twelve-month growth rate of credit in Dece...\n",
      "0      OFIs’ bank borrowing outstanding was 20.8% hig...\n",
      "0      The nominal yield on ten-year gilts fell by a ...\n",
      "0      Real UK interest rates fell sharply in mid Oct...\n",
      "0      The nominal effective exchange rate used as th...\n",
      "0      This was 2.8% higher than the exchange rate us...\n",
      "0      The central projection is consistent with a bi...\n",
      "0      The nominal effective exchange rate used as th...\n",
      "0      This was 0.8 percentage points higher than the...\n",
      "0      Growth was fastest during the first half of th...\n",
      "0      The picture in Japan was much weaker: domestic...\n",
      "0      Excluding oil and erratics, trade in goods and...\n",
      "0      But the non-EU trade deficit for 1997 Q4 was £...\n",
      "0      Net private capital inflows to Asia(1) were ru...\n",
      "0      The currencies of the ASEAN-4 fell by 20%–40% ...\n",
      "0      In Brazil, equity prices fell by around 40% be...\n",
      "0      But growth remains considerably stronger than ...\n",
      "0      UK growth has been revised down slightly in al...\n",
      "0      The US economy grew more rapidly in 1997 than ...\n",
      "0      HICP annual inflation fluctuated between 11/2%...\n",
      "0      The minutes of the November, December and Janu...\n",
      "0      At the time of the November Report, the MPC co...\n",
      "0      (1) It is shown next to the November projectio...\n",
      "0      The most likely path for RPIX inflation is to ...\n",
      "0      The central projection for RPIX inflation at t...\n",
      "0      As a result, and notwithstanding the lower lev...\n",
      "0      The inflation projection charts are complement...\n",
      "0      These are produced from the same distributions...\n",
      "0      Table 6.A shows the probabilities of inflation...\n",
      "0      This alternative assumption gives rise to a st...\n",
      "0      The MPC’s projection of the twelve-month RPIX ...\n",
      "0      To assist comparisons, some changes have been ...\n",
      "0      Chart 6.8 shows the distribution of central fo...\n",
      "0      The median expectation is around 2.5%, which i...\n",
      "0      Overall, outside forecasters assign a 50% prob...\n",
      "0      These figures are slightly different from the ...\n",
      "0      For the first time, other forecasters have pro...\n",
      "0      Their average central projection for GDP growt...\n",
      "0      These figures are similar to the MPC’s central...\n",
      "0      The forecasters’ distribution of possible outc...\n",
      "0      Hence, the focus is on projections for 2000 Q1...\n",
      "0      And as the annual rate of output growth is pro...\n",
      "0      Despite the sharp, and largely unanticipated, ...\n",
      "0      RPIX inflation fell slightly in December, but ...\n",
      "0      For those reasons, the Committee decided in No...\n",
      "0      The first estimate for UK consumption growth i...\n",
      "0      At its meeting on 7–8 January, the MPC conside...\n",
      "0      Output growth in Q3 had been revised down to 0...\n",
      "0      The central projection in that Report had been...\n",
      "0      First, it seemed likely that the relationship ...\n",
      "0      At the time of the February MPC meeting, the f...\n",
      "0      This was substantially weaker than expected at...\n",
      "0      Whole-economy underlying average earnings grow...\n",
      "0      The increase was broadly in line with that exp...\n",
      "0      RPIX inflation in December was higher than ant...\n",
      "0      A key feature of the projections in the Novemb...\n",
      "0      The sterling effective exchange rate index ave...\n",
      "0      It compares with an average of 102.0 prior to ...\n",
      "0      It is difficult to predict turning-points prec...\n",
      "0      But there are clear risks from the increase in...\n",
      "0      Chart 6.1 shows the MPC’s probability distribu...\n",
      "0      But the central case is for a somewhat lower l...\n",
      "0      Those indicators have yet to fall below the le...\n",
      "0      This was slightly slower than the growth in ag...\n",
      "0      M0 grew by 6.7% in the year to 1997 Q4, much t...\n",
      "0      Whole-economy average underlying earnings grew...\n",
      "0      The most likely path is for RPIX inflation to ...\n",
      "0      The twelve-month growth rate of broad money wa...\n",
      "0      As a result, and notwithstanding the lower lev...\n",
      "0      The central projection for RPIX inflation at t...\n",
      "0      The MPC’s projection of the twelve-month RPIX ...\n",
      "0      But the central case is for a somewhat lower l...\n",
      "0      The MPC’s probability distribution for the fou...\n",
      "0      Earnings growth rose by half a percentage poin...\n",
      "0      In the year to 1997 Q4, OFIs’ deposits grew by...\n",
      "0      Indeed, the preliminary estimate of GDP growth...\n",
      "0      Earnings growth, especially in the private sec...\n",
      "0      The starting-point for the nominal effective e...\n",
      "1      The stock of vacancies was virtually the same ...\n",
      "1      Unit labour costs for the whole economy rose b...\n",
      "1      Wage settlements in the second half of 1997 we...\n",
      "1      The ‘New Deal’ began to be introduced in Janua...\n",
      "1      Between September and December, relatively few...\n",
      "1      The January settlements figure is likely to be...\n",
      "1      The provisional estimates shown in Table 3.A i...\n",
      "1      There are further indications that settlements...\n",
      "1      Around a half of the businesses surveyed expec...\n",
      "1      (1) Annualised shorter-term growth rates remai...\n",
      "1      Bank estimates, derived from the Gallup/GFK su...\n",
      "1      The Barclays Basix Survey (see Table 3.B) indi...\n",
      "1      The unemployment claimant count was 5% of the ...\n",
      "1      But the trend appears to be flat over the past...\n",
      "1      It also fell in the autumn, to 26.6%, from 26....\n",
      "1      There was also a significant increase in emplo...\n",
      "1      Employment rose by 0.4% in the autumn, slightl...\n",
      "1      Though the number of manufacturing employees f...\n",
      "1      Though the reported numbers showed a fall of 2...\n",
      "1      According to the LFS, these rose by 0.6% in th...\n",
      "1      Though skilled labour shortages fell back slig...\n",
      "1      Furthermore, the shortages of unskilled labour...\n",
      "1      The British Chambers of Commerce indicated tha...\n",
      "1      Domestic demand grew at an average quarterly r...\n",
      "1      According to the LFS, employment rose by 117,0...\n",
      "1      And it was lower than the DETR index, which su...\n",
      "1      The Public Sector Borrowing Requirement (PSBR)...\n",
      "1      Consumers’ expenditure grew rapidly during the...\n",
      "1      The growth rate of OFIs’ deposits has fallen r...\n",
      "1      Chart 2.5 shows that spending on durable goods...\n",
      "1      Though spending on durables slowed in 1997 Q3,...\n",
      "1      Though exports (excluding oil and erratics) to...\n",
      "1      Retail sales volumes fell by 0.1% in December,...\n",
      "1      The three-month growth rate of retail sales pe...\n",
      "1      Chart 2.6 shows that the GFK index of consumer...\n",
      "1      The most recent MORI Survey gave a more subdue...\n",
      "1      As Chart 2.2 shows, export volumes of goods (e...\n",
      "1      And equity prices have risen by a further 11.7...\n",
      "1      Manufacturing output fell by 0.4% in 1997 Q4, ...\n",
      "1      The Halifax index rose by 0.6% in January, and...\n",
      "1      According to this estimate, house price inflat...\n",
      "1      The savings ratio fell to 10.8% in the third q...\n",
      "1      The annual growth rate of banks’ retail deposi...\n",
      "1      Real whole-economy investment rose by an avera...\n",
      "1      Domestic demand in the G7 picked up in 1997 Q3...\n",
      "1      On this measure, house price inflation was aro...\n",
      "1      The Halifax house price index rose by 5.8% in ...\n",
      "1      A third measure, the Department of Environment...\n",
      "1      Second, it is less timely than the Halifax and...\n",
      "1      In 1990 prices, stocks rose by £260 million in...\n",
      "1      Retail stocks rose by a cumulative total of ne...\n",
      "1      But the Nationwide index rose by 1.2% in Janua...\n",
      "1      The New Deal for young people covers all those...\n",
      "1      In each year of this recovery, the percentage ...\n",
      "1      The sterling price of Brent crude oil fell sha...\n",
      "1      RPIY annual inflation, which also excludes exc...\n",
      "1      Probability distributions of expected three-mo...\n",
      "1      The headline inflation rate (RPI) was 3.6% in ...\n",
      "1      The price of oil fell significantly in Decembe...\n",
      "1      The HICP inflation rate, the most directly com...\n",
      "1      Measured at factor cost, it rose by 2.4% in th...\n",
      "1      Because import prices fell in the past year, t...\n",
      "1      Though bank lending to smaller firms was flat ...\n",
      "1      Annual RPIX service price inflation was 2.9% i...\n",
      "1      Commodity prices have fallen in the past three...\n",
      "1      First, consumer confidence had fallen back, al...\n",
      "1      Second, the three-month growth rate of retail ...\n",
      "1      In the year to 1997 Q4, ICCs’ sterling borrowi...\n",
      "1      Retail sales had bounced back in October, whic...\n",
      "1      Second, it seemed implausible that any substan...\n",
      "1      The Merrill Lynch-Gallup Survey of fund manage...\n",
      "1      Table 3.B (see Section 3) shows that according...\n",
      "1      Longer-term market expectations of RPI inflati...\n",
      "1      At its meeting on 3–4 December, the Committee ...\n",
      "1      But there are signs that the pace of growth ha...\n",
      "1      The UK Harmonised Index of Consumer Prices (HI...\n",
      "1      Manufacturers’ margins on domestic sales proba...\n",
      "1      The one-month future price fell to below £9 pe...\n",
      "1      The six-month future price fell by nearly as m...\n",
      "1      In December, OPEC agreed to raise its producti...\n",
      "1      Metals prices, for example, fell by around 12%...\n",
      "1      The prices of some foods (such as soya beans) ...\n",
      "1      And The Economist’s non-food agricultural pric...\n",
      "1      Retail prices excluding mortgage interest paym...\n",
      "1      The index of average input prices (including l...\n",
      "1      Medium-term inflation expectations, as derived...\n",
      "1      The CIPS index of average prices charged was 5...\n",
      "1      Input prices in the manufacturing sector fell ...\n",
      "1      The Bank’s commodity price index was 12% lower...\n",
      "1      As the table shows, each of the forecasters ha...\n",
      "1      The CBI Industrial Trends Survey asks firms wh...\n",
      "1      Annual inflation measured by the output prices...\n",
      "1      The balance of firms expecting to increase pri...\n",
      "2      This happened in 1996, when manufacturing outp...\n",
      "2      It grew more slowly in the third quarter, part...\n",
      "2      Real broad money grew by around 8.7% in the ye...\n",
      "2      The imminent slowdown in economic growth will,...\n",
      "2      Broad money growth also, despite moderating sl...\n",
      "2      This raised the growth rate of net financial w...\n",
      "2      The MPC judges that the most likely scenario i...\n",
      "2      Several factors suggest that consumption growt...\n",
      "2      Recent movements in broad money velocity have ...\n",
      "2      Broad money now shows signs of slowing, but on...\n",
      "2      Although consumption growth has slowed, it wil...\n",
      "2      This was driven by rapid growth in personal se...\n",
      "2      But earnings growth is above 5% in the private...\n",
      "2      The slowdown in money growth was preceded by a...\n",
      "2      And private consumption was revised down signi...\n",
      "2      Real personal disposable income fell by 1.3% i...\n",
      "2      Judgments need to be made about trends in velo...\n",
      "2      One was that the level of activity was already...\n",
      "2      Consumption growth is expected to slow during ...\n",
      "2      The MPC’s projection for inflation assumes tha...\n",
      "2      The Committee noted two developments that migh...\n",
      "2      Service sector output grew by 4.4% in the year...\n",
      "2      But the continued rapid growth of broad money,...\n",
      "2      Broad money continues to grow at double-digit ...\n",
      "2      Despite moderating a little in 1997, narrow mo...\n",
      "2             Employment has continued to grow strongly.\n",
      "2      In making its projections, the MPC has assumed...\n",
      "2      Within this total, service sector output grew ...\n",
      "2      Broad money velocity has been below its long-r...\n",
      "2      It was not clear whether the Q3 data represent...\n",
      "2      The underlying increase in narrow money, as me...\n",
      "2      But the recent rapid growth of broad money rem...\n",
      "2      The MPC’s projection for inflation assumes tha...\n",
      "2      There is little sign of a slowdown in the pers...\n",
      "2      OFIs have been net depositors during this period.\n",
      "2      Chart 1.4 suggests that the growth rate of cre...\n",
      "2      Aggregate lending activity has already slowed ...\n",
      "2      (1) As Chart 1.2 shows, the ratio of ICCs’ bro...\n",
      "2      Credit growth to OFIs, which accounts for some...\n",
      "2      The slowdown in credit preceded the moderation...\n",
      "2      Though signs of moderation are emerging, the p...\n",
      "2      But the growth rate of other, unsecured, forms...\n",
      "2      Chart 1.2 shows that the ratio of the personal...\n",
      "2      Consumption growth is expected to slow during ...\n",
      "2      But the increase in wealth, together with rece...\n",
      "2      There is evidence that this worsening performa...\n",
      "2               Lending to ICCs has continued to weaken.\n",
      "2      ICCs’ holdings of broad money continued to slo...\n",
      "2      Aggregate Divisia money, a measure that reflec...\n",
      "2      Within the aggregate, Divisia money grew more ...\n",
      "2      The slower narrow money growth in the latter p...\n",
      "2      All had experienced rapid, investment-led grow...\n",
      "3      The Korean won, which was linked to the US dol...\n",
      "3      Consumption growth is expected to be driven by...\n",
      "3      Measures of the real interest rate, calculated...\n",
      "3      If workers on the New Deal displace employable...\n",
      "3      The relationship between these two real-wage s...\n",
      "3      Most of the small rise in prices during 1997 w...\n",
      "3      Skilled labour shortages and plant capacity we...\n",
      "3      Rising bankruptcies and Korean banks’ difficul...\n",
      "3      Labour market tightness is the key influence o...\n",
      "3      A higher ratio of real consumption to real pro...\n",
      "3      Lower taxes on income have also lifted the rea...\n",
      "3      Over the past year, import prices have fallen ...\n",
      "3      The real consumption wage outpaced the real pr...\n",
      "3      Third, recent wage settlements and reports of ...\n",
      "3      (1) So the chart does not provide a direct mea...\n",
      "3      The fall in UK real rates relative to overseas...\n",
      "3      And firms undertook large, generally unhedged,...\n",
      "3      The main upside risks stem from the possibilit...\n",
      "3      Nominal earnings growth higher than 41/2% a ye...\n",
      "3      In Asia, currencies have depreciated, bond yie...\n",
      "3      Real GDP grew by an estimated 3.3% in 1997, si...\n",
      "3      By contrast, US real yields were little change...\n",
      "3      Wage bargainers negotiate over future real wag...\n",
      "3      The LFS measures of both short and long-term u...\n",
      "3      Though banks have passed through the official ...\n",
      "3      Though the ratio of house prices to earnings h...\n",
      "3      Correct measures of real wages, looked at from...\n",
      "3      But measures of expectations are imprecise and...\n",
      "3      In these circumstances, estimates of real wage...\n",
      "3      The four-quarter growth rate of the real produ...\n",
      "3      It is difficult to attribute changes in the re...\n",
      "3      Changes in short-term unemployment (those unem...\n",
      "3      The change in nominal interest rates can be de...\n",
      "3      Another measure of labour market slack is prov...\n",
      "3      In Brazil, pressure on the currency prompted t...\n",
      "3      Most pressures on exchange rates in these mark...\n",
      "3      That would cause unit labour costs to rise cyc...\n",
      "3      The growth of real unit labour costs (the real...\n",
      "3      Short-term unemployment rose slightly in the s...\n",
      "3      These include institutional and regulatory ref...\n",
      "3      The main upside risks stem from the possibilit...\n",
      "3      Whole-economy unit labour costs were probably ...\n",
      "3      The Government’s New Deal for unemployed peopl...\n",
      "3      The short-term profile for inflation continues...\n",
      "3      The central projection uses a broad measure of...\n",
      "3      It focuses on groups who have become, or who r...\n",
      "3      It is likely that short-term unemployment has ...\n",
      "3      If successful, the policy should help to incre...\n",
      "3      That would be twice as long as import prices h...\n",
      "3      The implications for inflation depend on how f...\n",
      "3      There is a risk of a more marked rise in earni...\n",
      "3      This measure, called the non-employment rate, ...\n",
      "3      Japanese expected short-run interest rates hav...\n",
      "3      The projection assumes that growth in real ear...\n",
      "3                    Real earnings growth has increased.\n",
      "3      But unemployment would most likely stop fallin...\n",
      "3      The measure of labour market tightness used in...\n",
      "3      But the risks to the central projection incorp...\n",
      "3      ‘Churning’ means that the scheme may not impro...\n",
      "3      There is evidence that this is expected in the...\n",
      "3      Ultimately, slower growth will ease labour mar...\n",
      "3      It is also consistent with the increased oppor...\n",
      "4      Unemployment fell by 150,000 in the autumn,(1)...\n",
      "4      And service sector capacity constraints have l...\n",
      "4      The Chartered Institute of Purchasing and Supp...\n",
      "4      The CIPS Survey recorded an increase in servic...\n",
      "4      Most of the forward-looking indicators in the ...\n",
      "4      But there are signs that the pace of service s...\n",
      "4      Other indicators also suggest that the labour ...\n",
      "4      The fall in manufacturing output is consistent...\n",
      "4      Cost pressures in the service sector have fall...\n",
      "4      The CBI quarterly Industrial Trends Survey rec...\n",
      "4      So changes in personal sector savings behaviou...\n",
      "4      The CBI Survey only covers manufacturing, but ...\n",
      "4      Within aggregate M4, financial institutions ot...\n",
      "4      The labour market has continued to tighten ove...\n",
      "4      This comprised a rise of 152,000 in employees ...\n",
      "4      This reflected revised Inland Revenue treatmen...\n",
      "4      And ‘other costs’ refer to a variety of factor...\n",
      "4      Within this series, there was a large rise in ...\n",
      "4      Evidence on recruitment intentions suggests th...\n",
      "4      Even though imported services are nearly one q...\n",
      "4      In their January surveys, both the CBI and the...\n",
      "4      Evidence from unfilled vacancies data, however...\n",
      "4      Though the unadjusted BCC Survey indicated a f...\n",
      "4      But they also reflect a continuing long-run do...\n",
      "4      The Agents’ contact base is predominantly priv...\n",
      "4      Table 3.A shows the most recent data; summary ...\n",
      "4            (1) Financial markets have already reacted.\n",
      "4      The figure for average settlements was heavily...\n",
      "4      Indications of increasing labour market tightn...\n",
      "4      There was a marked rise in perceived labour sh...\n",
      "4      This was true of unskilled labour as well as s...\n",
      "4      But even after smoothing the earnings series, ...\n",
      "4      Total hours worked per week are a better measu...\n",
      "4      Chart 2.8 shows that the retail stocks to sale...\n",
      "4      Data published in the past three months have i...\n",
      "4      This may partly reflect attempts by OFIs to ma...\n",
      "4      According to Bank for International Settlement...\n",
      "4      Although consumption will not be supported by ...\n",
      "4      BIS statistics indicate that Japanese banks ar...\n",
      "4      The adjustment of these flows of credit can al...\n",
      "4      There are several reasons to expect a relative...\n",
      "4      Business investment has grown more quickly tha...\n",
      "4      (1) So to assess the investment picture, it is...\n",
      "4      This reflected exceptionally high dividend pay...\n",
      "4      Such constraints can be seen in the labour mar...\n",
      "4      Skill shortages remain high, and unemployment ...\n",
      "4      Interest rate spreads on unsecured lending hav...\n",
      "4      Mortgage equity withdrawal as a share of dispo...\n",
      "4      Surveys of capacity utilisation and skill shor...\n",
      "4      Because of the uncertainty of output gap estim...\n",
      "4      Concern over the possibility of a correction i...\n",
      "4      Fourth, concerns were expressed about the buoy...\n",
      "4      These suggest that corporate services price in...\n",
      "4      Net financial wealth data were recently revise...\n",
      "4      Lending to individuals in the form of consumer...\n",
      "4      Personal sector net financial wealth rose by 9...\n",
      "4      Equity prices have increased rapidly since 199...\n",
      "4      Changes in consumer confidence are linked to e...\n",
      "4      The Labour Force Survey (LFS) suggested that t...\n",
      "4      The labour market continues to tighten on almo...\n",
      "4      A crucial issue is which observable indicator ...\n",
      "4      (1) A significant proportion of windfall payou...\n",
      "4      This is largely because LAPFs have increased t...\n",
      "4      That weakness was surprising, and was reflecte...\n",
      "4      As Chart 1.3 illustrates, the weight attached ...\n",
      "4      Table 1.C shows the flows of deposits into, an...\n",
      "4      Bank deposit inflows also continue to increase...\n",
      "4      Recent evidence from the major British banks s...\n",
      "4      The substantial fall in unemployment, and high...\n",
      "4      The availability of credit to ICCs also depend...\n",
      "4      ICCs’ bank borrowing has recently moved closel...\n",
      "4      But as Chart 1.2 shows, since 1994, OFIs’ depo...\n",
      "4      Survey evidence from Barclays Bank also sugges...\n",
      "4      This has coincided, however, with recent surve...\n",
      "4      There were also falls in a number of emerging ...\n",
      "4      And though ICCs’ net foreign currency issues i...\n",
      "4      Chart 4.4 shows that manufacturing firms are a...\n",
      "4      Price pressures in the service sector are stro...\n",
      "4      This reflects a corresponding downward trend i...\n",
      "4      Large firms are able to raise funds through bo...\n",
      "4      Changes in ICCs’ deposits have, in the past, t...\n",
      "4      The growth rate of bank and building society c...\n",
      "5      On the one hand, despite the one-off effect of...\n",
      "5      Cost pressures in the goods sector have fallen...\n",
      "5      The emphasis on goods prices in the diagram re...\n",
      "5      Adjusting for the effects of lower import pric...\n",
      "5      Cost pressures have been less subdued in the s...\n",
      "5      Sterling has appreciated by 25% since August 1...\n",
      "5      Import prices have fallen during the past year...\n",
      "5      The current projection incorporates a smaller ...\n",
      "5      Since the middle of 1996, when sterling starte...\n",
      "5      The prices of goods and services have increase...\n",
      "5      Foreign exporters have used sterling’s appreci...\n",
      "5      In the light of this evidence, the MPC is revi...\n",
      "5      Since consumption has been the main impetus to...\n",
      "5      This could have reduced the initial impact of ...\n",
      "5      Recent evidence suggests that the appreciation...\n",
      "5      The MPC’s inflation projection assumes that fu...\n",
      "5      When the price-level effect from the appreciat...\n",
      "5      The fall in import prices continues to offset ...\n",
      "5      But there is great uncertainty about the speed...\n",
      "5      The diagram below shows how these various cost...\n",
      "5      The impact of this appreciation on both export...\n",
      "5      Adjusting for the effects of lower import pric...\n",
      "5      Some costs feed into the pipeline at many diff...\n",
      "5      The weaker level of world activity will result...\n",
      "5      The pricing behaviour of retailers in the next...\n",
      "5      The current projection incorporates a smaller ...\n",
      "5      (1) In the light of the higher-than-expected o...\n",
      "5      It is difficult to tell whether this delayed r...\n",
      "5      Real index-linked yields also fell in Australi...\n",
      "5      (1) The index weights together prices of diffe...\n",
      "5      Adjusting for the effect of lower import price...\n",
      "5      Though the weighted costs of retail goods fell...\n",
      "5      This reduction in margins on export sales part...\n",
      "5      By contrast, margins on export sales appear to...\n",
      "5      This may be a reflection of lower cost pressur...\n",
      "5      But price disappointment seems to have fallen ...\n",
      "5      The prices of many domestically produced input...\n",
      "5      This reflected falls in the prices of both imp...\n",
      "5      This was partly because import prices, particu...\n",
      "5      The monthly trade figures suggest that net exp...\n",
      "5      As the box on page 31 shows, more than half of...\n",
      "5      Since mid 1996, import prices have fallen by l...\n",
      "5               But asset prices had also risen further.\n",
      "5      But input and output price inflation were, if ...\n",
      "5      For example, fresh food prices feed directly i...\n",
      "5      The recent evidence suggests that the apprecia...\n",
      "5      For example, foreign holidays are priced by do...\n",
      "5      This illustration does not imply that retail p...\n",
      "5      Unlike the GDP deflator, it is affected by imp...\n",
      "5      A supply shock, such as a fall in oil prices, ...\n",
      "5      Increased demand for goods might put pressure ...\n",
      "5       Retail price inflation remained stubbornly high.\n",
      "5      So changes in costs are not always a lead indi...\n",
      "5      The central projection assumes that import pri...\n",
      "5      Retail price inflation in 1997 was higher than...\n",
      "5      The possibility that Iraq’s oil exports would ...\n",
      "5      But a shock to demand, such as the recent wind...\n",
      "5      So there will be a fall in the net demand for ...\n",
      "5      This is because shocks that affect the economy...\n",
      "5      There were higher bonuses in both manufacturin...\n",
      "5      The terms of trade are the ratio of export to ...\n",
      "5      This could have been because retailers were in...\n",
      "5      And the impact on the United Kingdom will not ...\n",
      "5      The fall may have been partly because of a wea...\n",
      "5      Part of sterling’s appreciation since August 1...\n",
      "5      Data releases and revisions to past numbers su...\n",
      "5      The United Kingdom’s net trade position was re...\n",
      "6      But survey evidence is mixed—for example, the ...\n",
      "6      Data from the Halifax and Nationwide give diff...\n",
      "6      So far, the Bank has received data on 66 settl...\n",
      "6      On the other hand, the Bank’s estimate, based ...\n",
      "6      But, as always, there is a high degree of unce...\n",
      "6      In 1996, for example, the Land Registry sample...\n",
      "6      The Land Registry sample also includes purchas...\n",
      "6      Fourth, the data only cover England and Wales,...\n",
      "6      Other forecasters have also provided the Bank ...\n",
      "6         More recent monthly data confirm this picture.\n",
      "6      The Bank has developed an alternative house pr...\n",
      "6      These may be important advantages at a time wh...\n",
      "6      The chart shows that in the year to 1997 Q3, h...\n",
      "6      It is possible, however, that the Bank’s estim...\n",
      "6      A comparison of outturns with prior expectatio...\n",
      "6      This showed some signs that net exports were w...\n",
      "6      In discussion of the output gap, the MPC noted...\n",
      "6      No breakdown of the expenditure components wou...\n",
      "6      The Bank’s regional Agencies conducted an info...\n",
      "6      Bank estimates suggest that the contribution o...\n",
      "6      In the absence of any clear reason for the div...\n",
      "6      The Land Registry records sales at the date of...\n",
      "6      There had been relatively little news in the l...\n",
      "6      This box outlines the construction of an estim...\n",
      "6      This section of the Report discusses a wide ra...\n",
      "6      This compares with the Halifax and Nationwide’...\n",
      "6      Land Registry data have been mix-adjusted by B...\n",
      "6      External finance sought by both large and smal...\n",
      "6      The published Land Registry data are not mix-a...\n",
      "6      Possible reasons for the divergence between th...\n",
      "6      Third, the estimate is subject to revisions as...\n",
      "6      A further view was that recent data were encou...\n",
      "6      The Nationwide and Halifax house price indices...\n",
      "7      It was agreed that Asian developments would ne...\n",
      "7      These spreads were around 100 basis points in ...\n",
      "7      So there was a case for waiting to see further...\n",
      "7      Taking into account the anticipated monetary p...\n",
      "7      But the Committee agreed that they would need ...\n",
      "7      This is consistent with a robust investment ou...\n",
      "7      The MPC has used the IMF and OECD projections ...\n",
      "7      The downside risks to inflation stem mainly fr...\n",
      "7      This section provides a summary of the economi...\n",
      "7      The IMF expects world output to slow from 4% i...\n",
      "7      The Committee identified a range of possible v...\n",
      "7      The impact on growth in Europe will, if anythi...\n",
      "7      Hence, the larger of the two effects on UK net...\n",
      "7      In particular, if interest rates turned out to...\n",
      "7      The probabilities were skewed towards rates be...\n",
      "7      Both of these were probably related to the str...\n",
      "7      Growth in European economies picked up in the ...\n",
      "7      Growth could peak in Q4, as the MPC had projec...\n",
      "7      Recent developments in Asia could mean that th...\n",
      "7      On this basis, the MPC has concluded that, tak...\n",
      "7      Domestic demand in the third quarter was weake...\n",
      "7      The IMF has revised down its forecast for grow...\n",
      "7      The projection was agreed by the Monetary Poli...\n",
      "7      Recent developments in Asia provide the main i...\n",
      "7      The central projection is that growth, having ...\n",
      "7      Second, and more importantly, the projection i...\n",
      "7      The MPC’s assumptions about activity and infla...\n",
      "7      The central projection assumes that the impact...\n",
      "7      (2) This contribution has been relatively cons...\n",
      "7      Such a fall would lead to weaker domestic dema...\n",
      "7      At this juncture, with output growth likely to...\n",
      "7      The impact on UK net exports is expected to be...\n",
      "7      The central projection assumes that equity pri...\n",
      "7      Once the effects of the Asian crisis have been...\n",
      "7      There is a risk, however, that policy overseas...\n",
      "7      But it is always possible that GDP and its com...\n",
      "7      The probability of a major depression in the w...\n",
      "7      In that event, the MPC’s inflation projection ...\n",
      "7      World GDP, trade and inflation will be weaker ...\n",
      "7      However, the MPC believes that there is a risk...\n",
      "7      The overall shape of the output projection is ...\n",
      "7      Net trade in goods, excluding oil and erratics...\n",
      "7      The central projection assumes that sterling’s...\n",
      "7      So the overall picture is of only small downwa...\n",
      "7      The overall shape of the output projection is ...\n",
      "7      In its assessment of the outlook for the publi...\n",
      "7      This is reflected in an upward skew to the inf...\n",
      "7      The MPC has assumed that recent developments i...\n",
      "7      The downside risks to inflation stem mainly fr...\n",
      "7      The MPC has assumed that equity prices will gr...\n",
      "7      The central projection is that growth, having ...\n",
      "7      Developments in Asia, as well as slowing domes...\n",
      "7      (1) The single most likely outcome for GDP gro...\n",
      "7      There was, therefore, a strong case for waitin...\n",
      "7      Some of the rise in November can be accounted ...\n",
      "8      On the balance of arguments set out above, a m...\n",
      "8      The MPC considers the most likely profile for ...\n",
      "8      The nominal effective exchange rate had risen ...\n",
      "8      In the meantime, if the inflation target is to...\n",
      "8      At the February MPC meeting, which took place ...\n",
      "8      The projection for inflation is based on the a...\n",
      "8      The underlying rate of inflation might be well...\n",
      "8      Nominal earnings growth has increased, and is ...\n",
      "8      The Government’s ‘New Deal’ for unemployed peo...\n",
      "8      US short-run interest rate expectations for en...\n",
      "8      In Germany, short-run interest rate expectatio...\n",
      "8      The market expectation of short-term interest ...\n",
      "8      In addition, for the first time, a new project...\n",
      "8      The falls in interest rates at the short end o...\n",
      "8      The Committee voted unanimously to leave the B...\n",
      "8      A third view was that there was little or no p...\n",
      "8      And sterling might not depreciate in line with...\n",
      "8      Mortgage margins have remained broadly unchang...\n",
      "8      And annualised shorter-term growth rates have ...\n",
      "8      At one end was the view that interest rates sh...\n",
      "8      The rise in overseas short-term forward intere...\n",
      "8      But there remains a risk that the rapid and pe...\n",
      "8      On 4 February, the outcome seen as most likely...\n",
      "8      The quarterly profile of RPIX inflation, parti...\n",
      "8      German interest rates are expected to rise sig...\n",
      "8      By contrast, the implied distribution for US s...\n",
      "8      The most likely reason for the shift in this t...\n",
      "8      So overseas interest rates are expected to ris...\n",
      "8      But a comparison of certain bilateral interest...\n",
      "8      Official interest rates have been unchanged si...\n",
      "8      But the difference between the rise in a broad...\n",
      "8      At the time of the November Report, the outcom...\n",
      "8      Long-term nominal interest rates have fallen b...\n",
      "8      Chart 6.6 shows an alternative projection, bas...\n",
      "8      For the current projection, the MPC has assume...\n",
      "8      As Chart 1.9 showed, the central market expect...\n",
      "8      The level of the effective exchange rate in tw...\n",
      "8      Chart 6.7 shows the corresponding output proje...\n",
      "8      The Bank’s repo rate has remained unchanged si...\n",
      "8      But since the end of October, the situations i...\n",
      "8      The long run can provide a useful benchmark ag...\n",
      "8      Overseas short-term interest rates are expecte...\n",
      "8      Sterling has risen by around 25% against curre...\n",
      "8      The combination of above-trend growth and fall...\n",
      "8      Chart 1.10 shows implied probability distribut...\n",
      "8      Chart 1.8 shows that spreads between an unsecu...\n",
      "8      For these people, the New Deal will begin with...\n",
      "8      They expect inflation to fall to 2.9% by Decem...\n",
      "8      In the year to January, sterling had appreciat...\n",
      "8      The Bank of England’s official dealing rate—th...\n",
      "8      Both categories of unemployment fell between J...\n",
      "8      The December figure may have been distorted by...\n",
      "8      The impact of the scheme on measured unemploym...\n",
      "8      Against the background of this projection, the...\n",
      "8      Mortgage interest payments have risen more qui...\n",
      "8      This effect is assumed to outweigh the influen...\n",
      "8      Hence, the expected value of the exchange rate...\n",
      "8      The inflation projection assumes that the tren...\n",
      "8      This implies that the nominal effective exchan...\n",
      "8      Following the rise in the Bank’s repo rate on ...\n",
      "8      At its February meeting, the MPC voted to leav...\n",
      "8      At its meeting on 4–5 February, the MPC decide...\n",
      "8      Indeed, the balance of risks in the projection...\n",
      "8      Actual interest rates facing borrowers and len...\n",
      "9      The response of UK net trade following the adj...\n",
      "9      Output is expected to fall in the East Asian c...\n",
      "9      To offset this would require an increase in ne...\n",
      "9      If OFIs’ concern over possible falls in the va...\n",
      "9      Weaker domestic demand will mean that their de...\n",
      "9      But the unwinding of windfall spending, past m...\n",
      "9      Monetary policy is currently being pulled in o...\n",
      "9      But there is a risk of a marked fall in UK equ...\n",
      "9      Taking domestic demand and net exports togethe...\n",
      "9      As well as the direct effect of the reduction ...\n",
      "9      The central issue is whether the existing poli...\n",
      "9      For example, world primary commodity prices ar...\n",
      "9      Net exports are likely to fall further during ...\n",
      "9         That reflects the strength of domestic demand.\n",
      "9      The size of the expected fall in output depend...\n",
      "9      The delay reflects both the strength of UK dem...\n",
      "9      The combination of sharply weakening net trade...\n",
      "9      This is particularly relevant in Japan, where ...\n",
      "9      (3) But banks’ reassessments of their exposure...\n",
      "9      Assessing the impact of contagion is extremely...\n",
      "9      The impact of such reassessments will depend, ...\n",
      "9      Economic growth in Latin America, for example,...\n",
      "9      Asset markets in the United States and Europe ...\n",
      "9      The size of these potential effects on world g...\n",
      "9      Another source of contagion could stem from ch...\n",
      "9      The probability attached to a large fall incre...\n",
      "9      Net trade is weakening, but domestic demand gr...\n",
      "9      On the other hand, the delayed demand effect o...\n",
      "9      Interest rates were increased sharply in these...\n",
      "9      A third major channel is the possibility that ...\n",
      "9      Second, the crisis in Asia is likely to depres...\n",
      "9      Overall, the balance of risks to inflation is ...\n",
      "9      Domestic demand growth is expected to fall tow...\n",
      "9      A large rise in the current account deficit is...\n",
      "9      Spreads on corporate bonds relative to compara...\n",
      "9       There are two major depressing factors on trade.\n",
      "9      The adjustment to net exports will move curren...\n",
      "9      The scale of the slowdown depends, in part, on...\n",
      "9      But the fall in real exchange rates represents...\n",
      "9      But forecasts of growth in the United States a...\n",
      "9      Events in Asia have continued to unfold since ...\n",
      "9      There were signs of contagion in a number of c...\n",
      "9      (2) And if banks outside the affected Asian ec...\n",
      "9      The trade deficit with non-EU countries has wi...\n",
      "9      There is also a risk that developments in Asia...\n",
      "9      A much larger crisis resulting from contagion ...\n",
      "9      But the uncertainties surrounding these foreca...\n",
      "9      It includes domestic commodities, and takes ac...\n",
      "9      The box on pages 14–15 examines three channels...\n",
      "9      First, the fall in aggregate demand and the re...\n",
      "9      The United Kingdom’s share of trade with Asia ...\n",
      "9      Third, there are risks of problems spreading t...\n",
      "9      Problems were initially concentrated in Indone...\n",
      "9      The box also emphasises the importance of the ...\n",
      "9      The impact of developments in Asia has probabl...\n",
      "9      This could represent a build-up of additional ...\n",
      "9      Following sterling’s exit from the ERM in 1992...\n",
      "9      So it is difficult to know whether the recent ...\n",
      "9      The widening of spreads is likely to have refl...\n",
      "9      The considerations which affect monetary polic...\n",
      "9      The effects in the United Kingdom are expected...\n",
      "9      As the box on pages 14–15 notes, financial mar...\n",
      "9      But the uncertainties surrounding these foreca...\n",
      "9      Events in Asia provide the main international ...\n",
      "9      The turmoil in Asia has led to expectations of...\n",
      "9      Candidates who refuse a place on the scheme ma...\n",
      "9      The training and experience gained as part of ...\n",
      "9      ‘Displacement’ means that the targeted groups ...\n",
      "9      ‘Displacement’ and ‘churning’ are the two othe...\n",
      "9      A small part of this difference reflects world...\n",
      "9      Chart 1.14 identifies the Bank’s estimate of t...\n",
      "9      This was possibly because UK demand has been g...\n",
      "9      It appears that the effects of the exchange ra...\n",
      "9      So news about overseas and domestic monetary p...\n",
      "9      The risk of the erratic factors unwinding more...\n",
      "9      This was the sixth year of economic expansion ...\n",
      "9      The counterparties to this improvement in Asia...\n",
      "9      Increased holdings of other financial assets p...\n",
      "9      So the fall in real rates may also reflect shi...\n",
      "9      But there are few reasons to expect sterling’s...\n",
      "9      A number of factors led to the reduction in pr...\n",
      "9      There is still a risk that these portfolio eff...\n",
      "9      Net exports had held up surprisingly well in t...\n",
      "9      The most likely interpretation was that the im...\n",
      "9      There was still uncertainty about the output g...\n",
      "9      Another view was that, though those arguments ...\n",
      "9      The risks from developments in Asia appeared t...\n",
      "9      The output gap was difficult to measure and di...\n",
      "9      The strength came mostly from growth in export...\n",
      "9      Chart 2.4 shows that the downturn in net trade...\n",
      "9      Domestic demand growth is expected to fall tow...\n",
      "9      That implies a large rise in the current accou...\n",
      "9      Overall, net financial wealth has grown more s...\n",
      "9      The trade balance with EU countries has been b...\n",
      "9                       That reflected two main factors.\n",
      "9      There are now signs that both factors are begi...\n",
      "9      And since the November Report there have been ...\n",
      "9      Those estimates reflect both direct and indire...\n",
      "9      Uncertainty about the prospects for world trad...\n",
      "9      Net private capital inflows to East Asia are e...\n",
      "9      The projection takes account of the anticipate...\n",
      "9      The box outlines the three channels through wh...\n",
      "9      But there is a downside risk arising from unce...\n",
      "9      This may partly reflect supply-side effects in...\n",
      "9      The exchange rate appreciation could have been...\n",
      "9      A much larger crisis resulting from contagion ...\n",
      "9      The implications of the financial crisis in Ea...\n",
      "9      Asian countries had been an important source o...\n",
      "9      Some of the affected countries had implemented...\n",
      "9      The situation needed careful monitoring, but a...\n",
      "9      Overall, the balance of risks to inflation in ...\n",
      "9      In September 1998, the United Kingdom will beg...\n",
      "9      It is possible that some of the weakening in I...\n",
      "9      For example, reports from the Bank’s regional ...\n",
      "9      In that case, output growth would need to slow...\n",
      "9      Another view was that the economy was close to...\n",
      "9      The apparent weakness in investment may be par...\n",
      "9      But domestic demand should slow, given the tig...\n",
      "9      The MPC agreed that such uncertainty about whe...\n",
      "9      Though the deficit with EU countries has been ...\n",
      "9      The MPC discussed the likely impact of Asian t...\n",
      "9      Overall, the downside risks seemed to have inc...\n",
      "9      Increased mergers and acquisitions activity, a...\n",
      "9      The implications of the latest projection for ...\n"
     ]
    }
   ],
   "source": [
    "print(sentence_cluster)"
   ]
  },
  {
   "cell_type": "code",
   "execution_count": 62,
   "metadata": {
    "ExecuteTime": {
     "end_time": "2020-02-13T10:50:33.886654Z",
     "start_time": "2020-02-13T10:50:33.870002Z"
    }
   },
   "outputs": [],
   "source": [
    "def write_topic(t, f):\n",
    "    f.write('-'*8 + str(t.index[0])+'-'*8 + '\\n')\n",
    "    for sentence in t.sentence:\n",
    "        f.write(sentence+'\\n')\n",
    "with open('sentence_clustering_199802.txt', 'w') as f:\n",
    "    sentence_cluster.groupby('topic').apply(lambda t: write_topic(t, f))"
   ]
  },
  {
   "cell_type": "code",
   "execution_count": 63,
   "metadata": {
    "ExecuteTime": {
     "end_time": "2020-02-13T10:50:34.016202Z",
     "start_time": "2020-02-13T10:50:33.890637Z"
    }
   },
   "outputs": [],
   "source": [
    "sentence_cluster.to_excel('sentence_clustering_199802.xlsx')"
   ]
  },
  {
   "cell_type": "markdown",
   "metadata": {},
   "source": [
    "Observation: the clusters obtained from the analysis above have been built based on sentiment and topic. The results give us insights about the different elements that have been impacted by inflation such as \n",
    "- GDP and overall economic growth (topic 0)\n",
    "- Fall of commodities prices, rise of house price and  decrease of unemployment (topic 1)\n",
    "- Broad money growth (topic 2)\n",
    "- Consumption rate and currency exchange (topic 3)\n",
    "- Manufacturers' employment, loan markets (topic 4)\n",
    "- Import and export of goods (topic 5)\n",
    "- House price index (topic 6)\n",
    "- Global economy (topic 7)\n",
    "- Interest rates (topic 8)\n",
    "- Domestic and Foreign demand (topic 9)"
   ]
  },
  {
   "cell_type": "markdown",
   "metadata": {},
   "source": [
    "## Construct an economic sentiment indicator\n",
    "\n",
    "We have dozens of inflation reports of the U.K. from 1998 to 2015. First, we separate them in two sets, one in rising inflation, one in falling inflation."
   ]
  },
  {
   "cell_type": "code",
   "execution_count": 64,
   "metadata": {
    "ExecuteTime": {
     "end_time": "2020-02-13T10:53:13.312339Z",
     "start_time": "2020-02-13T10:53:13.300707Z"
    }
   },
   "outputs": [
    {
     "data": {
      "text/plain": [
       "array([199802, 199805, 199808, 199811, 199902, 199905, 199908, 199911,\n",
       "       200002, 200005, 200008, 200011, 200102, 200105, 200108, 200111,\n",
       "       200202, 200205, 200208, 200211, 200302, 200305, 200308, 200311,\n",
       "       200402, 200405, 200408, 200411, 200502, 200505, 200508, 200511,\n",
       "       200602, 200605, 200608, 200611, 200702, 200705, 200708, 200711,\n",
       "       200802, 200805, 200808, 200811, 200902, 200905, 200908, 200911,\n",
       "       201002, 201005, 201008, 201011, 201102, 201105, 201108, 201111,\n",
       "       201202, 201205, 201208, 201211, 201302, 201305, 201308, 201311,\n",
       "       201402, 201405, 201408, 201411, 201502, 201505], dtype=int64)"
      ]
     },
     "execution_count": 64,
     "metadata": {},
     "output_type": "execute_result"
    }
   ],
   "source": [
    "ir_data.ir_date.unique()"
   ]
  },
  {
   "cell_type": "markdown",
   "metadata": {},
   "source": [
    "Collect the following economic state indicators:\n",
    "- quarterly growth rate of *CPIH* (Consumer Prices Index including owner occupiers' housing costs) to classify reporting period into accelerating inflation and decelerating inflation.\n",
    "- quarterly growth rat eof *GDP* in the United Kingdom"
   ]
  },
  {
   "cell_type": "code",
   "execution_count": 65,
   "metadata": {
    "ExecuteTime": {
     "end_time": "2020-02-13T10:53:13.710770Z",
     "start_time": "2020-02-13T10:53:13.320906Z"
    }
   },
   "outputs": [
    {
     "data": {
      "image/png": "[encoded data removed]",
      "text/plain": [
       "<Figure size 432x288 with 1 Axes>"
      ]
     },
     "metadata": {
      "needs_background": "light"
     },
     "output_type": "display_data"
    }
   ],
   "source": [
    "# Load CPIH index quarterly change rate series\n",
    "inflation_gr = pd.read_csv('CPIH.csv').set_index('Quarter')\n",
    "inflation_gr.plot();"
   ]
  },
  {
   "cell_type": "code",
   "execution_count": 66,
   "metadata": {
    "ExecuteTime": {
     "end_time": "2020-02-13T10:53:13.764364Z",
     "start_time": "2020-02-13T10:53:13.726539Z"
    }
   },
   "outputs": [
    {
     "data": {
      "text/html": [
       "<div>\n",
       "<style scoped>\n",
       "    .dataframe tbody tr th:only-of-type {\n",
       "        vertical-align: middle;\n",
       "    }\n",
       "\n",
       "    .dataframe tbody tr th {\n",
       "        vertical-align: top;\n",
       "    }\n",
       "\n",
       "    .dataframe thead th {\n",
       "        text-align: right;\n",
       "    }\n",
       "</style>\n",
       "<table border=\"1\" class=\"dataframe\">\n",
       "  <thead>\n",
       "    <tr style=\"text-align: right;\">\n",
       "      <th></th>\n",
       "      <th>Accl</th>\n",
       "    </tr>\n",
       "    <tr>\n",
       "      <th>Quarter</th>\n",
       "      <th></th>\n",
       "    </tr>\n",
       "  </thead>\n",
       "  <tbody>\n",
       "    <tr>\n",
       "      <th>1989 Q2</th>\n",
       "      <td>False</td>\n",
       "    </tr>\n",
       "    <tr>\n",
       "      <th>1989 Q3</th>\n",
       "      <td>False</td>\n",
       "    </tr>\n",
       "    <tr>\n",
       "      <th>1989 Q4</th>\n",
       "      <td>True</td>\n",
       "    </tr>\n",
       "    <tr>\n",
       "      <th>1990 Q1</th>\n",
       "      <td>True</td>\n",
       "    </tr>\n",
       "    <tr>\n",
       "      <th>1990 Q2</th>\n",
       "      <td>True</td>\n",
       "    </tr>\n",
       "    <tr>\n",
       "      <th>...</th>\n",
       "      <td>...</td>\n",
       "    </tr>\n",
       "    <tr>\n",
       "      <th>2018 Q4</th>\n",
       "      <td>False</td>\n",
       "    </tr>\n",
       "    <tr>\n",
       "      <th>2019 Q1</th>\n",
       "      <td>False</td>\n",
       "    </tr>\n",
       "    <tr>\n",
       "      <th>2019 Q2</th>\n",
       "      <td>True</td>\n",
       "    </tr>\n",
       "    <tr>\n",
       "      <th>2019 Q3</th>\n",
       "      <td>False</td>\n",
       "    </tr>\n",
       "    <tr>\n",
       "      <th>2019 Q4</th>\n",
       "      <td>False</td>\n",
       "    </tr>\n",
       "  </tbody>\n",
       "</table>\n",
       "<p>123 rows × 1 columns</p>\n",
       "</div>"
      ],
      "text/plain": [
       "          Accl\n",
       "Quarter       \n",
       "1989 Q2  False\n",
       "1989 Q3  False\n",
       "1989 Q4   True\n",
       "1990 Q1   True\n",
       "1990 Q2   True\n",
       "...        ...\n",
       "2018 Q4  False\n",
       "2019 Q1  False\n",
       "2019 Q2   True\n",
       "2019 Q3  False\n",
       "2019 Q4  False\n",
       "\n",
       "[123 rows x 1 columns]"
      ]
     },
     "execution_count": 66,
     "metadata": {},
     "output_type": "execute_result"
    }
   ],
   "source": [
    "inflat_bool_series = (inflation_gr.diff().dropna() > 0).rename(columns={\"CPIH\": 'Accl'})  # Second order\n",
    "inflat_bool_series"
   ]
  },
  {
   "cell_type": "markdown",
   "metadata": {},
   "source": [
    "We picked a specific cutoff rate for quarterly GDP growth, in order to classify the report into two states."
   ]
  },
  {
   "cell_type": "code",
   "execution_count": 67,
   "metadata": {
    "ExecuteTime": {
     "end_time": "2020-02-13T10:53:13.823321Z",
     "start_time": "2020-02-13T10:53:13.776913Z"
    }
   },
   "outputs": [],
   "source": [
    "gdp = pd.read_csv('GDP_Q_season_adjed.csv')\n",
    "gdp['GDP_gr'] = gdp.GDP.pct_change()*100\n",
    "gdp = gdp.set_index('Quarter').dropna()\n",
    "\n",
    "GDP_Q_GR_CUTOFF = 0.5  # 0.5% quarterly growth rate as partiton cutoff\n",
    "gdp['Pos_gr'] = gdp.GDP_gr > GDP_Q_GR_CUTOFF"
   ]
  },
  {
   "cell_type": "code",
   "execution_count": 68,
   "metadata": {
    "ExecuteTime": {
     "end_time": "2020-02-13T10:53:14.115113Z",
     "start_time": "2020-02-13T10:53:13.842359Z"
    }
   },
   "outputs": [
    {
     "data": {
      "image/png": "[encoded data removed]",
      "text/plain": [
       "<Figure size 432x288 with 1 Axes>"
      ]
     },
     "metadata": {
      "needs_background": "light"
     },
     "output_type": "display_data"
    }
   ],
   "source": [
    "gdp.GDP_gr.plot();\n",
    "plt.axhline(y=GDP_Q_GR_CUTOFF, c='r', label='Cutoff Growth Rate')\n",
    "plt.legend();"
   ]
  },
  {
   "cell_type": "code",
   "execution_count": 69,
   "metadata": {
    "ExecuteTime": {
     "end_time": "2020-02-13T10:53:14.158419Z",
     "start_time": "2020-02-13T10:53:14.121749Z"
    }
   },
   "outputs": [
    {
     "data": {
      "text/html": [
       "<div>\n",
       "<style scoped>\n",
       "    .dataframe tbody tr th:only-of-type {\n",
       "        vertical-align: middle;\n",
       "    }\n",
       "\n",
       "    .dataframe tbody tr th {\n",
       "        vertical-align: top;\n",
       "    }\n",
       "\n",
       "    .dataframe thead th {\n",
       "        text-align: right;\n",
       "    }\n",
       "</style>\n",
       "<table border=\"1\" class=\"dataframe\">\n",
       "  <thead>\n",
       "    <tr style=\"text-align: right;\">\n",
       "      <th></th>\n",
       "      <th>GDP</th>\n",
       "      <th>GDP_gr</th>\n",
       "      <th>Pos_gr</th>\n",
       "    </tr>\n",
       "    <tr>\n",
       "      <th>Quarter</th>\n",
       "      <th></th>\n",
       "      <th></th>\n",
       "      <th></th>\n",
       "    </tr>\n",
       "  </thead>\n",
       "  <tbody>\n",
       "    <tr>\n",
       "      <th>1955 Q2</th>\n",
       "      <td>112267</td>\n",
       "      <td>0.065066</td>\n",
       "      <td>False</td>\n",
       "    </tr>\n",
       "    <tr>\n",
       "      <th>1955 Q3</th>\n",
       "      <td>114538</td>\n",
       "      <td>2.022856</td>\n",
       "      <td>True</td>\n",
       "    </tr>\n",
       "    <tr>\n",
       "      <th>1955 Q4</th>\n",
       "      <td>113938</td>\n",
       "      <td>-0.523844</td>\n",
       "      <td>False</td>\n",
       "    </tr>\n",
       "    <tr>\n",
       "      <th>1956 Q1</th>\n",
       "      <td>115274</td>\n",
       "      <td>1.172568</td>\n",
       "      <td>True</td>\n",
       "    </tr>\n",
       "    <tr>\n",
       "      <th>1956 Q2</th>\n",
       "      <td>115024</td>\n",
       "      <td>-0.216875</td>\n",
       "      <td>False</td>\n",
       "    </tr>\n",
       "    <tr>\n",
       "      <th>...</th>\n",
       "      <td>...</td>\n",
       "      <td>...</td>\n",
       "      <td>...</td>\n",
       "    </tr>\n",
       "    <tr>\n",
       "      <th>2018 Q4</th>\n",
       "      <td>518136</td>\n",
       "      <td>0.214108</td>\n",
       "      <td>False</td>\n",
       "    </tr>\n",
       "    <tr>\n",
       "      <th>2019 Q1</th>\n",
       "      <td>521458</td>\n",
       "      <td>0.641144</td>\n",
       "      <td>True</td>\n",
       "    </tr>\n",
       "    <tr>\n",
       "      <th>2019 Q2</th>\n",
       "      <td>520893</td>\n",
       "      <td>-0.108350</td>\n",
       "      <td>False</td>\n",
       "    </tr>\n",
       "    <tr>\n",
       "      <th>2019 Q3</th>\n",
       "      <td>523463</td>\n",
       "      <td>0.493383</td>\n",
       "      <td>False</td>\n",
       "    </tr>\n",
       "    <tr>\n",
       "      <th>2019 Q4</th>\n",
       "      <td>523588</td>\n",
       "      <td>0.023879</td>\n",
       "      <td>False</td>\n",
       "    </tr>\n",
       "  </tbody>\n",
       "</table>\n",
       "<p>259 rows × 3 columns</p>\n",
       "</div>"
      ],
      "text/plain": [
       "            GDP    GDP_gr  Pos_gr\n",
       "Quarter                          \n",
       "1955 Q2  112267  0.065066   False\n",
       "1955 Q3  114538  2.022856    True\n",
       "1955 Q4  113938 -0.523844   False\n",
       "1956 Q1  115274  1.172568    True\n",
       "1956 Q2  115024 -0.216875   False\n",
       "...         ...       ...     ...\n",
       "2018 Q4  518136  0.214108   False\n",
       "2019 Q1  521458  0.641144    True\n",
       "2019 Q2  520893 -0.108350   False\n",
       "2019 Q3  523463  0.493383   False\n",
       "2019 Q4  523588  0.023879   False\n",
       "\n",
       "[259 rows x 3 columns]"
      ]
     },
     "execution_count": 69,
     "metadata": {},
     "output_type": "execute_result"
    }
   ],
   "source": [
    "gdp"
   ]
  },
  {
   "cell_type": "code",
   "execution_count": 70,
   "metadata": {
    "ExecuteTime": {
     "end_time": "2020-02-13T10:53:14.176325Z",
     "start_time": "2020-02-13T10:53:14.163981Z"
    }
   },
   "outputs": [],
   "source": [
    "def ir_date_economic_state(ir_date, eco_state_series):\n",
    "    \"\"\"\n",
    "    :param eco_state_series, should be a series of quartely-dated booleans\n",
    "    indicating in or not in certain economic condition\n",
    "    \"\"\"\n",
    "    ir_date = str(ir_date)\n",
    "    year = ir_date[:4]\n",
    "    month = int(ir_date[4:])\n",
    "    key = year + ' Q'\n",
    "    if month < 4:\n",
    "        key += '1'  # Q1\n",
    "    elif month < 7:\n",
    "        key += '2'  # Q2\n",
    "    elif month < 10:\n",
    "        key += '3'  # Q3\n",
    "    elif month < 13:\n",
    "        key += '4'  # Q4\n",
    "    else:\n",
    "        raise ValueError('Invalid quarter')\n",
    "    \n",
    "    return eco_state_series.loc[key]"
   ]
  },
  {
   "cell_type": "markdown",
   "metadata": {},
   "source": [
    "### Split Corpus into inflation accelerating / decelerating"
   ]
  },
  {
   "cell_type": "code",
   "execution_count": 71,
   "metadata": {
    "ExecuteTime": {
     "end_time": "2020-02-13T10:53:17.181527Z",
     "start_time": "2020-02-13T10:53:14.180298Z"
    }
   },
   "outputs": [
    {
     "data": {
      "text/plain": [
       "((6333, 4), (8690, 4))"
      ]
     },
     "execution_count": 71,
     "metadata": {},
     "output_type": "execute_result"
    }
   ],
   "source": [
    "# Fetch the sentence_corpus, and decide the group assignment for each sentences\n",
    "sentence_corpus['Accl_inflat'] = sentence_corpus.ir_date\\\n",
    "            .apply(lambda t: ir_date_economic_state(t, inflat_bool_series))\n",
    "# Reports during when inflation is accelerating\n",
    "accl_inflat_corpus = sentence_corpus.query('Accl_inflat == True')\n",
    "# Reports during when inflation is decelerating\n",
    "decl_inflat_corpus = sentence_corpus.query('Accl_inflat == False')\n",
    "accl_inflat_corpus.shape, decl_inflat_corpus.shape"
   ]
  },
  {
   "cell_type": "markdown",
   "metadata": {},
   "source": [
    "### Split Corpus into GDP quarterly increase / decline"
   ]
  },
  {
   "cell_type": "code",
   "execution_count": 72,
   "metadata": {
    "ExecuteTime": {
     "end_time": "2020-02-13T10:53:17.892562Z",
     "start_time": "2020-02-13T10:53:17.186790Z"
    }
   },
   "outputs": [],
   "source": [
    "sentence_corpus['GDP_q_incr'] = sentence_corpus.ir_date\\\n",
    "            .apply(lambda t: ir_date_economic_state(t, gdp.Pos_gr))\n",
    "pos_gr_corpus = sentence_corpus.query('GDP_q_incr == True')\n",
    "neg_gr_corpus = sentence_corpus.query('GDP_q_incr == False')"
   ]
  },
  {
   "cell_type": "code",
   "execution_count": 73,
   "metadata": {
    "ExecuteTime": {
     "end_time": "2020-02-13T10:53:17.905336Z",
     "start_time": "2020-02-13T10:53:17.895127Z"
    }
   },
   "outputs": [
    {
     "data": {
      "text/plain": [
       "((9639, 5), (5384, 5))"
      ]
     },
     "execution_count": 73,
     "metadata": {},
     "output_type": "execute_result"
    }
   ],
   "source": [
    "pos_gr_corpus.shape, neg_gr_corpus.shape"
   ]
  },
  {
   "cell_type": "markdown",
   "metadata": {},
   "source": [
    "### Estimate two separate `word2vec` models\n",
    "One for each set of documents"
   ]
  },
  {
   "cell_type": "code",
   "execution_count": 74,
   "metadata": {
    "ExecuteTime": {
     "end_time": "2020-02-13T10:53:17.964232Z",
     "start_time": "2020-02-13T10:53:17.957520Z"
    }
   },
   "outputs": [],
   "source": [
    "def fit_CBOW_model(corpus):\n",
    "    sents = [sent for sents in corpus.clean_sentences for sent in sents]\n",
    "    return gensim.models.Word2Vec(sents,\n",
    "                                   sg=0, # CBOW\n",
    "                                   min_count=3,  # Ignore words that appear less than this\n",
    "                                   size=200,  # Dimensionality of word embeddings\n",
    "                                   workers=2,  # Number of processors (parallelisation)\n",
    "                                   window=5,  # Context window for words during train\n",
    "                                   iter=30)"
   ]
  },
  {
   "cell_type": "code",
   "execution_count": 75,
   "metadata": {
    "ExecuteTime": {
     "end_time": "2020-02-13T10:53:18.006678Z",
     "start_time": "2020-02-13T10:53:17.967825Z"
    }
   },
   "outputs": [],
   "source": [
    "# Load the \"increase\" set and \"decrease\" set\n",
    "attr_words = pd.read_csv('attribute_words.csv')\n",
    "I = tuple(attr_words.word[attr_words.increase == 1])\n",
    "D = tuple(attr_words.word[attr_words.decrease == 1])\n",
    "# Stem the words\n",
    "ps = PorterStemmer()\n",
    "I = tuple(set(ps.stem(i) for i in I))\n",
    "D = tuple(set(ps.stem(d) for d in D))"
   ]
  },
  {
   "cell_type": "code",
   "execution_count": 76,
   "metadata": {
    "ExecuteTime": {
     "end_time": "2020-02-13T10:53:18.038229Z",
     "start_time": "2020-02-13T10:53:18.019202Z"
    }
   },
   "outputs": [],
   "source": [
    "# vocab = list(CBOW_accl.wv.vocab.keys()) + list(CBOW_decl.wv.vocab.keys())\n",
    "# vocab = sorted(set(vocab))\n",
    "# pd.Series(data=vocab).to_csv('vocabs.csv')"
   ]
  },
  {
   "cell_type": "markdown",
   "metadata": {
    "ExecuteTime": {
     "end_time": "2020-02-13T00:26:25.218493Z",
     "start_time": "2020-02-13T00:26:25.201905Z"
    }
   },
   "source": [
    "Construct a set of words $X$ which reflects a particular economic concept that should vary across your two Report groups. We picked a set of words to reflect the general economic condition and stage in business cycle."
   ]
  },
  {
   "cell_type": "code",
   "execution_count": 77,
   "metadata": {
    "ExecuteTime": {
     "end_time": "2020-02-13T10:53:18.067466Z",
     "start_time": "2020-02-13T10:53:18.047132Z"
    }
   },
   "outputs": [],
   "source": [
    "X = ('gdp', 'activ', 'macroeconom', 'market', 'financ', 'financi', 'growth')"
   ]
  },
  {
   "cell_type": "markdown",
   "metadata": {},
   "source": [
    "Class to implement the IR_Sentiment index"
   ]
  },
  {
   "cell_type": "code",
   "execution_count": 78,
   "metadata": {
    "ExecuteTime": {
     "end_time": "2020-02-13T10:53:18.087754Z",
     "start_time": "2020-02-13T10:53:18.073677Z"
    }
   },
   "outputs": [],
   "source": [
    "class IR_Sent:\n",
    "    def __init__(self, w2v_model, I, D, X):\n",
    "        self.w2v = w2v_model  # The fitted word2vec model\n",
    "        vocab = w2v_model.wv.vocab\n",
    "        # Look up word-embedding vectors for words in I, D, X\n",
    "        # Ensure the words is in word2vec vocabulary\n",
    "        I = [i for i in I if i in vocab]\n",
    "        D = [d for d in D if d in vocab]\n",
    "        print('I:', len(I), 'D:', len(D))\n",
    "        self.I = tuple(w2v_model.wv[i] for i in I)  # Positive term set\n",
    "        self.D = tuple(w2v_model.wv[d] for d in D)  # Negative term set\n",
    "        self.X = tuple(w2v_model.wv[x] for x in X)  # Target term set\n",
    "    \n",
    "    @staticmethod\n",
    "    def cos(x, y):\n",
    "        return np.dot(x, y) / (norm(x) * norm(y))\n",
    "    \n",
    "    @staticmethod\n",
    "    def s(w, A, B):\n",
    "        return np.mean([IR_Sent.cos(w, a) for a in A]) - np.mean([IR_Sent.cos(w, b) for b in B])\n",
    "    \n",
    "    def score(self):\n",
    "        sarr = [IR_Sent.s(x, self.I, self.D) for x in self.X]\n",
    "        return np.sum(sarr) / np.std(sarr)"
   ]
  },
  {
   "cell_type": "markdown",
   "metadata": {},
   "source": [
    "### Sentiment Index on partition (Inflation accelerating?) "
   ]
  },
  {
   "cell_type": "code",
   "execution_count": 79,
   "metadata": {
    "ExecuteTime": {
     "end_time": "2020-02-13T10:53:43.010533Z",
     "start_time": "2020-02-13T10:53:18.093489Z"
    }
   },
   "outputs": [],
   "source": [
    "CBOW_accl = fit_CBOW_model(accl_inflat_corpus)\n",
    "CBOW_decl = fit_CBOW_model(decl_inflat_corpus)"
   ]
  },
  {
   "cell_type": "code",
   "execution_count": 80,
   "metadata": {
    "ExecuteTime": {
     "end_time": "2020-02-13T10:53:43.040959Z",
     "start_time": "2020-02-13T10:53:43.012814Z"
    }
   },
   "outputs": [
    {
     "name": "stdout",
     "output_type": "stream",
     "text": [
      "I: 19 D: 23\n",
      "Decelerating Inflation Sentiment index: 3.2389166\n"
     ]
    }
   ],
   "source": [
    "print('Decelerating Inflation Sentiment index:', IR_Sent(CBOW_decl, I, D, X).score())"
   ]
  },
  {
   "cell_type": "code",
   "execution_count": 81,
   "metadata": {
    "ExecuteTime": {
     "end_time": "2020-02-13T10:53:43.085619Z",
     "start_time": "2020-02-13T10:53:43.063940Z"
    }
   },
   "outputs": [
    {
     "name": "stdout",
     "output_type": "stream",
     "text": [
      "I: 19 D: 23\n",
      "Accelerating Inflation Sentiment index: 0.68817234\n"
     ]
    }
   ],
   "source": [
    "print('Accelerating Inflation Sentiment index:', IR_Sent(CBOW_accl, I, D, X).score())"
   ]
  },
  {
   "cell_type": "markdown",
   "metadata": {},
   "source": [
    "### Sentiment Index on partition (quarterly GDP  increasing?)"
   ]
  },
  {
   "cell_type": "code",
   "execution_count": 82,
   "metadata": {
    "ExecuteTime": {
     "end_time": "2020-02-13T10:54:10.787233Z",
     "start_time": "2020-02-13T10:53:43.090595Z"
    }
   },
   "outputs": [],
   "source": [
    "CBOW_gq_incr = fit_CBOW_model(pos_gr_corpus)\n",
    "CBOW_gq_decr = fit_CBOW_model(neg_gr_corpus)"
   ]
  },
  {
   "cell_type": "code",
   "execution_count": 83,
   "metadata": {
    "ExecuteTime": {
     "end_time": "2020-02-13T10:54:10.901601Z",
     "start_time": "2020-02-13T10:54:10.831496Z"
    }
   },
   "outputs": [
    {
     "name": "stdout",
     "output_type": "stream",
     "text": [
      "I: 19 D: 23\n"
     ]
    },
    {
     "data": {
      "text/plain": [
       "7.780101"
      ]
     },
     "execution_count": 83,
     "metadata": {},
     "output_type": "execute_result"
    }
   ],
   "source": [
    "IR_Sent(CBOW_gq_incr, I, D, X).score()"
   ]
  },
  {
   "cell_type": "code",
   "execution_count": 84,
   "metadata": {
    "ExecuteTime": {
     "end_time": "2020-02-13T10:54:10.935204Z",
     "start_time": "2020-02-13T10:54:10.912128Z"
    }
   },
   "outputs": [
    {
     "name": "stdout",
     "output_type": "stream",
     "text": [
      "I: 18 D: 23\n"
     ]
    },
    {
     "data": {
      "text/plain": [
       "-5.6807203"
      ]
     },
     "execution_count": 84,
     "metadata": {},
     "output_type": "execute_result"
    }
   ],
   "source": [
    "IR_Sent(CBOW_gq_decr, I, D, X).score()"
   ]
  },
  {
   "cell_type": "markdown",
   "metadata": {},
   "source": [
    "Observation:\n",
    "The sentiment index we constructed is\n",
    "- *positive* for the expansion report corpus (quarterly GDP growth rate > CUTOFF rate)\n",
    "- *negative* for the recession report corpus (quarterly GDP growth rate <= CUTOFF rate)\n",
    "\n",
    "The cutoff rate is set to 0.5% to achieve two approximately equally-sized corpus.\n",
    "\n",
    "The result is in line with our expectation: When the economy is in expansion phase, we expect general economic terms like \"GDP\" and \"Macroeconomy\" to bind more closely to the positive attribute word set $I$, rather than the negative attribute word set $D$. When the economy is in recession phase, vice versa."
   ]
  }
 ],
 "metadata": {
  "kernelspec": {
   "display_name": "Python 3",
   "language": "python",
   "name": "python3"
  },
  "language_info": {
   "codemirror_mode": {
    "name": "ipython",
    "version": 3
   },
   "file_extension": ".py",
   "mimetype": "text/x-python",
   "name": "python",
   "nbconvert_exporter": "python",
   "pygments_lexer": "ipython3",
   "version": "3.7.0"
  }
 },
 "nbformat": 4,
 "nbformat_minor": 4
}
